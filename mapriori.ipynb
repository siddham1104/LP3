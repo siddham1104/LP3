{
 "cells": [
  {
   "cell_type": "markdown",
   "id": "83bc15f4",
   "metadata": {
    "papermill": {
     "duration": 0.034863,
     "end_time": "2022-07-12T07:16:35.966407",
     "exception": false,
     "start_time": "2022-07-12T07:16:35.931544",
     "status": "completed"
    },
    "tags": []
   },
   "source": [
    "# <span style='color:Black'> MARKET BASKET ANALYSIS USING APRIORI ALGORITHM"
   ]
  },
  {
   "cell_type": "markdown",
   "id": "930ffab2",
   "metadata": {
    "papermill": {
     "duration": 0.027173,
     "end_time": "2022-07-12T07:16:36.028825",
     "exception": false,
     "start_time": "2022-07-12T07:16:36.001652",
     "status": "completed"
    },
    "tags": []
   },
   "source": [
    "All of us have done e-shopping right? We go to the site for buying a particular thing and come out with a lot more than what we wished to buy, right? Ever thought how the retailers manage to tempT us into buying stuff that we actually did not intend to buy in the first place?\n"
   ]
  },
  {
   "cell_type": "markdown",
   "id": "bf02fcbc",
   "metadata": {
    "papermill": {
     "duration": 0.025094,
     "end_time": "2022-07-12T07:16:36.085819",
     "exception": false,
     "start_time": "2022-07-12T07:16:36.060725",
     "status": "completed"
    },
    "tags": []
   },
   "source": [
    "We live in the era of e-commerce and digital marketing, We hav even small scale businesses going online as the opportunities are endless. \n",
    "Since a huge chunk of the people who have access to internet is switching to onlline shopping, large retailers are actively searching for ways to increase their profit."
   ]
  },
  {
   "cell_type": "markdown",
   "id": "81b76811",
   "metadata": {
    "papermill": {
     "duration": 0.025953,
     "end_time": "2022-07-12T07:16:36.137198",
     "exception": false,
     "start_time": "2022-07-12T07:16:36.111245",
     "status": "completed"
    },
    "tags": []
   },
   "source": [
    "Market Basket analysis is one such key techniques used by large retailers to uncover relationships between items, which can in turn help them make profit:\n",
    "\n",
    "For example:\n",
    "\n",
    "Customers who buy bread are more likely to buy jam as well, similarly people who buy laptops are likely to buy laptop bags as well. Finding these kind of relationships between items and ensuring that they are placed correctly in the market recommendations so that the chance of the purchase of the second item is effectively increased.\n",
    "\n",
    "Now lets say we find out that people who buy bread buy jam most of the time, how can we make them buy a third item say eggs? what if we place an offer that they can't deny?\n",
    "Lets give them a discount of 30% on eggs, they will be tempted to buy the eggs right?\n",
    "\n",
    "This is how the market basket analysis work, we find relationships between items so that the retailers can make necessary arrangements and offers to ensure that the person who is buying one item buys the related items as well.\n"
   ]
  },
  {
   "cell_type": "markdown",
   "id": "d882a263",
   "metadata": {
    "papermill": {
     "duration": 0.027918,
     "end_time": "2022-07-12T07:16:36.191287",
     "exception": false,
     "start_time": "2022-07-12T07:16:36.163369",
     "status": "completed"
    },
    "tags": []
   },
   "source": [
    "**Steps for apriori algorithm"
   ]
  },
  {
   "cell_type": "markdown",
   "id": "1ccea78e",
   "metadata": {
    "papermill": {
     "duration": 0.025095,
     "end_time": "2022-07-12T07:16:36.242228",
     "exception": false,
     "start_time": "2022-07-12T07:16:36.217133",
     "status": "completed"
    },
    "tags": []
   },
   "source": [
    "Set a minimum value for support and confidence. This means that we are only interested in finding rules for the items that have certain default existence (e.g. support) and have a minimum value for co-occurrence with other items (e.g. confidence).\n",
    "\n",
    "Extract all the subsets having higher value of support than minimum threshold.\n",
    "\n",
    "Select all the rules from the subsets with confidence value higher than minimum threshold.\n",
    "\n",
    "Order the rules by descending order of Lift."
   ]
  },
  {
   "cell_type": "markdown",
   "id": "0eb87b64",
   "metadata": {
    "papermill": {
     "duration": 0.024934,
     "end_time": "2022-07-12T07:16:36.292612",
     "exception": false,
     "start_time": "2022-07-12T07:16:36.267678",
     "status": "completed"
    },
    "tags": []
   },
   "source": [
    "# APRIORI"
   ]
  },
  {
   "cell_type": "code",
   "execution_count": 1,
   "id": "c518abc8",
   "metadata": {
    "execution": {
     "iopub.execute_input": "2022-07-12T07:16:36.347865Z",
     "iopub.status.busy": "2022-07-12T07:16:36.346820Z",
     "iopub.status.idle": "2022-07-12T07:16:37.922303Z",
     "shell.execute_reply": "2022-07-12T07:16:37.921520Z",
     "shell.execute_reply.started": "2022-02-11T14:27:08.916818Z"
    },
    "papermill": {
     "duration": 1.604552,
     "end_time": "2022-07-12T07:16:37.922481",
     "exception": false,
     "start_time": "2022-07-12T07:16:36.317929",
     "status": "completed"
    },
    "tags": []
   },
   "outputs": [],
   "source": [
    "import numpy as np # linear algebra\n",
    "import pandas as pd # data processing\n",
    "import plotly.express as px\n",
    "\n",
    "import matplotlib as plt"
   ]
  },
  {
   "cell_type": "code",
   "execution_count": 2,
   "id": "36752dbc",
   "metadata": {
    "execution": {
     "iopub.execute_input": "2022-07-12T07:16:37.979911Z",
     "iopub.status.busy": "2022-07-12T07:16:37.979243Z",
     "iopub.status.idle": "2022-07-12T07:16:49.588982Z",
     "shell.execute_reply": "2022-07-12T07:16:49.588439Z",
     "shell.execute_reply.started": "2022-02-11T14:27:11.118665Z"
    },
    "papermill": {
     "duration": 11.640908,
     "end_time": "2022-07-12T07:16:49.589161",
     "exception": false,
     "start_time": "2022-07-12T07:16:37.948253",
     "status": "completed"
    },
    "tags": []
   },
   "outputs": [
    {
     "name": "stdout",
     "output_type": "stream",
     "text": [
      "Collecting apyori\r\n",
      "  Downloading apyori-1.1.2.tar.gz (8.6 kB)\r\n",
      "  Preparing metadata (setup.py) ... \u001b[?25l-\b \bdone\r\n",
      "\u001b[?25hBuilding wheels for collected packages: apyori\r\n",
      "  Building wheel for apyori (setup.py) ... \u001b[?25l-\b \b\\\b \bdone\r\n",
      "\u001b[?25h  Created wheel for apyori: filename=apyori-1.1.2-py3-none-any.whl size=5974 sha256=11c9bb89d1c13cdfb221a37a3e9239f0c9736ea47f1ace113793a0a201294f4b\r\n",
      "  Stored in directory: /root/.cache/pip/wheels/cb/f6/e1/57973c631d27efd1a2f375bd6a83b2a616c4021f24aab84080\r\n",
      "Successfully built apyori\r\n",
      "Installing collected packages: apyori\r\n",
      "Successfully installed apyori-1.1.2\r\n",
      "\u001b[33mWARNING: Running pip as the 'root' user can result in broken permissions and conflicting behaviour with the system package manager. It is recommended to use a virtual environment instead: https://pip.pypa.io/warnings/venv\u001b[0m\r\n"
     ]
    }
   ],
   "source": [
    "!pip install apyori"
   ]
  },
  {
   "cell_type": "code",
   "execution_count": 3,
   "id": "5c05c266",
   "metadata": {
    "execution": {
     "iopub.execute_input": "2022-07-12T07:16:49.652979Z",
     "iopub.status.busy": "2022-07-12T07:16:49.652372Z",
     "iopub.status.idle": "2022-07-12T07:16:49.656793Z",
     "shell.execute_reply": "2022-07-12T07:16:49.657213Z",
     "shell.execute_reply.started": "2022-02-11T14:32:13.305433Z"
    },
    "papermill": {
     "duration": 0.038834,
     "end_time": "2022-07-12T07:16:49.657394",
     "exception": false,
     "start_time": "2022-07-12T07:16:49.618560",
     "status": "completed"
    },
    "tags": []
   },
   "outputs": [],
   "source": [
    "\n",
    "import apyori\n",
    "from apyori import apriori"
   ]
  },
  {
   "cell_type": "code",
   "execution_count": 4,
   "id": "8f52e2ef",
   "metadata": {
    "execution": {
     "iopub.execute_input": "2022-07-12T07:16:49.717930Z",
     "iopub.status.busy": "2022-07-12T07:16:49.717351Z",
     "iopub.status.idle": "2022-07-12T07:16:49.777928Z",
     "shell.execute_reply": "2022-07-12T07:16:49.778393Z",
     "shell.execute_reply.started": "2022-02-11T14:34:09.138073Z"
    },
    "papermill": {
     "duration": 0.092103,
     "end_time": "2022-07-12T07:16:49.778589",
     "exception": false,
     "start_time": "2022-07-12T07:16:49.686486",
     "status": "completed"
    },
    "scrolled": true,
    "tags": []
   },
   "outputs": [
    {
     "data": {
      "text/plain": [
       "(38765, 3)"
      ]
     },
     "execution_count": 4,
     "metadata": {},
     "output_type": "execute_result"
    }
   ],
   "source": [
    "data = pd.read_csv(\"../input/groceries-dataset/Groceries_dataset.csv\")\n",
    "data.shape"
   ]
  },
  {
   "cell_type": "markdown",
   "id": "36019fc4",
   "metadata": {
    "papermill": {
     "duration": 0.030843,
     "end_time": "2022-07-12T07:16:49.838730",
     "exception": false,
     "start_time": "2022-07-12T07:16:49.807887",
     "status": "completed"
    },
    "tags": []
   },
   "source": [
    "The above dataset is that of a grocery store, we can see that the dataset has three columns the member_number (The is of the person who bought the item), Date of purchase and the description of the item."
   ]
  },
  {
   "cell_type": "code",
   "execution_count": 5,
   "id": "e1165288",
   "metadata": {
    "execution": {
     "iopub.execute_input": "2022-07-12T07:16:49.901126Z",
     "iopub.status.busy": "2022-07-12T07:16:49.900477Z",
     "iopub.status.idle": "2022-07-12T07:16:49.932740Z",
     "shell.execute_reply": "2022-07-12T07:16:49.933186Z",
     "shell.execute_reply.started": "2022-02-11T14:34:11.480421Z"
    },
    "papermill": {
     "duration": 0.064384,
     "end_time": "2022-07-12T07:16:49.933381",
     "exception": false,
     "start_time": "2022-07-12T07:16:49.868997",
     "status": "completed"
    },
    "tags": []
   },
   "outputs": [
    {
     "name": "stdout",
     "output_type": "stream",
     "text": [
      "<class 'pandas.core.frame.DataFrame'>\n",
      "RangeIndex: 38765 entries, 0 to 38764\n",
      "Data columns (total 3 columns):\n",
      " #   Column           Non-Null Count  Dtype \n",
      "---  ------           --------------  ----- \n",
      " 0   Member_number    38765 non-null  int64 \n",
      " 1   Date             38765 non-null  object\n",
      " 2   itemDescription  38765 non-null  object\n",
      "dtypes: int64(1), object(2)\n",
      "memory usage: 908.7+ KB\n"
     ]
    }
   ],
   "source": [
    "data.info()"
   ]
  },
  {
   "cell_type": "markdown",
   "id": "b419b36d",
   "metadata": {
    "papermill": {
     "duration": 0.028156,
     "end_time": "2022-07-12T07:16:49.990244",
     "exception": false,
     "start_time": "2022-07-12T07:16:49.962088",
     "status": "completed"
    },
    "tags": []
   },
   "source": [
    "We can see that there are 38765 rows in the dataset"
   ]
  },
  {
   "cell_type": "code",
   "execution_count": 6,
   "id": "b646560f",
   "metadata": {
    "execution": {
     "iopub.execute_input": "2022-07-12T07:16:50.053260Z",
     "iopub.status.busy": "2022-07-12T07:16:50.052556Z",
     "iopub.status.idle": "2022-07-12T07:16:50.063160Z",
     "shell.execute_reply": "2022-07-12T07:16:50.063597Z",
     "shell.execute_reply.started": "2022-02-11T14:34:18.937931Z"
    },
    "papermill": {
     "duration": 0.043944,
     "end_time": "2022-07-12T07:16:50.063841",
     "exception": false,
     "start_time": "2022-07-12T07:16:50.019897",
     "status": "completed"
    },
    "tags": []
   },
   "outputs": [
    {
     "data": {
      "text/plain": [
       "Member_number      0\n",
       "Date               0\n",
       "itemDescription    0\n",
       "dtype: int64"
      ]
     },
     "execution_count": 6,
     "metadata": {},
     "output_type": "execute_result"
    }
   ],
   "source": [
    "data.isna().sum()"
   ]
  },
  {
   "cell_type": "markdown",
   "id": "c0063a9d",
   "metadata": {
    "papermill": {
     "duration": 0.029039,
     "end_time": "2022-07-12T07:16:50.122901",
     "exception": false,
     "start_time": "2022-07-12T07:16:50.093862",
     "status": "completed"
    },
    "tags": []
   },
   "source": [
    "We can see that there are no null values in any of the columns in the dataset, this makes analysis easier."
   ]
  },
  {
   "cell_type": "markdown",
   "id": "00c5041f",
   "metadata": {
    "papermill": {
     "duration": 0.029278,
     "end_time": "2022-07-12T07:16:50.182311",
     "exception": false,
     "start_time": "2022-07-12T07:16:50.153033",
     "status": "completed"
    },
    "tags": []
   },
   "source": [
    "### <span style='color:Black'> Now let's look at the top selling products as well as the least selling products in the dataset."
   ]
  },
  {
   "cell_type": "code",
   "execution_count": 7,
   "id": "8c1a2982",
   "metadata": {
    "execution": {
     "iopub.execute_input": "2022-07-12T07:16:50.246696Z",
     "iopub.status.busy": "2022-07-12T07:16:50.246017Z",
     "iopub.status.idle": "2022-07-12T07:16:50.253301Z",
     "shell.execute_reply": "2022-07-12T07:16:50.252816Z",
     "shell.execute_reply.started": "2022-02-11T14:34:22.532599Z"
    },
    "papermill": {
     "duration": 0.040322,
     "end_time": "2022-07-12T07:16:50.253442",
     "exception": false,
     "start_time": "2022-07-12T07:16:50.213120",
     "status": "completed"
    },
    "tags": []
   },
   "outputs": [],
   "source": [
    "#Let's split up this line of code, we first count the occurances of each item in the dataset, then sort the value in asending order and filter out the first 10 items, this would be the top 10 selling items\n",
    "x = data['itemDescription'].value_counts().sort_values(ascending=False)[:10]"
   ]
  },
  {
   "cell_type": "code",
   "execution_count": 8,
   "id": "be5478f9",
   "metadata": {
    "execution": {
     "iopub.execute_input": "2022-07-12T07:16:50.317201Z",
     "iopub.status.busy": "2022-07-12T07:16:50.316528Z",
     "iopub.status.idle": "2022-07-12T07:16:51.494640Z",
     "shell.execute_reply": "2022-07-12T07:16:51.494096Z",
     "shell.execute_reply.started": "2022-02-11T14:34:23.001790Z"
    },
    "papermill": {
     "duration": 1.212233,
     "end_time": "2022-07-12T07:16:51.494782",
     "exception": false,
     "start_time": "2022-07-12T07:16:50.282549",
     "status": "completed"
    },
    "tags": []
   },
   "outputs": [
    {
     "name": "stdout",
     "output_type": "stream",
     "text": [
      "Top 10 frequently sold products\n"
     ]
    },
    {
     "data": {
      "text/html": [
       "        <script type=\"text/javascript\">\n",
       "        window.PlotlyConfig = {MathJaxConfig: 'local'};\n",
       "        if (window.MathJax) {MathJax.Hub.Config({SVG: {font: \"STIX-Web\"}});}\n",
       "        if (typeof require !== 'undefined') {\n",
       "        require.undef(\"plotly\");\n",
       "        requirejs.config({\n",
       "            paths: {\n",
       "                'plotly': ['https://cdn.plot.ly/plotly-2.8.3.min']\n",
       "            }\n",
       "        });\n",
       "        require(['plotly'], function(Plotly) {\n",
       "            window._Plotly = Plotly;\n",
       "        });\n",
       "        }\n",
       "        </script>\n",
       "        "
      ]
     },
     "metadata": {},
     "output_type": "display_data"
    },
    {
     "data": {
      "text/html": [
       "<div>                            <div id=\"dcc3fb01-0dd7-43d2-bea9-270014c1c172\" class=\"plotly-graph-div\" style=\"height:525px; width:100%;\"></div>            <script type=\"text/javascript\">                require([\"plotly\"], function(Plotly) {                    window.PLOTLYENV=window.PLOTLYENV || {};                                    if (document.getElementById(\"dcc3fb01-0dd7-43d2-bea9-270014c1c172\")) {                    Plotly.newPlot(                        \"dcc3fb01-0dd7-43d2-bea9-270014c1c172\",                        [{\"alignmentgroup\":\"True\",\"hovertemplate\":\"x=%{x}<br>y=%{y}<extra></extra>\",\"legendgroup\":\"\",\"marker\":{\"color\":\"#636efa\",\"pattern\":{\"shape\":\"\"}},\"name\":\"\",\"offsetgroup\":\"\",\"orientation\":\"v\",\"showlegend\":false,\"textposition\":\"auto\",\"x\":[\"whole milk\",\"other vegetables\",\"rolls/buns\",\"soda\",\"yogurt\",\"root vegetables\",\"tropical fruit\",\"bottled water\",\"sausage\",\"citrus fruit\"],\"xaxis\":\"x\",\"y\":[2502,1898,1716,1514,1334,1071,1032,933,924,812],\"yaxis\":\"y\",\"type\":\"bar\"}],                        {\"template\":{\"data\":{\"bar\":[{\"error_x\":{\"color\":\"#2a3f5f\"},\"error_y\":{\"color\":\"#2a3f5f\"},\"marker\":{\"line\":{\"color\":\"#E5ECF6\",\"width\":0.5},\"pattern\":{\"fillmode\":\"overlay\",\"size\":10,\"solidity\":0.2}},\"type\":\"bar\"}],\"barpolar\":[{\"marker\":{\"line\":{\"color\":\"#E5ECF6\",\"width\":0.5},\"pattern\":{\"fillmode\":\"overlay\",\"size\":10,\"solidity\":0.2}},\"type\":\"barpolar\"}],\"carpet\":[{\"aaxis\":{\"endlinecolor\":\"#2a3f5f\",\"gridcolor\":\"white\",\"linecolor\":\"white\",\"minorgridcolor\":\"white\",\"startlinecolor\":\"#2a3f5f\"},\"baxis\":{\"endlinecolor\":\"#2a3f5f\",\"gridcolor\":\"white\",\"linecolor\":\"white\",\"minorgridcolor\":\"white\",\"startlinecolor\":\"#2a3f5f\"},\"type\":\"carpet\"}],\"choropleth\":[{\"colorbar\":{\"outlinewidth\":0,\"ticks\":\"\"},\"type\":\"choropleth\"}],\"contour\":[{\"colorbar\":{\"outlinewidth\":0,\"ticks\":\"\"},\"colorscale\":[[0.0,\"#0d0887\"],[0.1111111111111111,\"#46039f\"],[0.2222222222222222,\"#7201a8\"],[0.3333333333333333,\"#9c179e\"],[0.4444444444444444,\"#bd3786\"],[0.5555555555555556,\"#d8576b\"],[0.6666666666666666,\"#ed7953\"],[0.7777777777777778,\"#fb9f3a\"],[0.8888888888888888,\"#fdca26\"],[1.0,\"#f0f921\"]],\"type\":\"contour\"}],\"contourcarpet\":[{\"colorbar\":{\"outlinewidth\":0,\"ticks\":\"\"},\"type\":\"contourcarpet\"}],\"heatmap\":[{\"colorbar\":{\"outlinewidth\":0,\"ticks\":\"\"},\"colorscale\":[[0.0,\"#0d0887\"],[0.1111111111111111,\"#46039f\"],[0.2222222222222222,\"#7201a8\"],[0.3333333333333333,\"#9c179e\"],[0.4444444444444444,\"#bd3786\"],[0.5555555555555556,\"#d8576b\"],[0.6666666666666666,\"#ed7953\"],[0.7777777777777778,\"#fb9f3a\"],[0.8888888888888888,\"#fdca26\"],[1.0,\"#f0f921\"]],\"type\":\"heatmap\"}],\"heatmapgl\":[{\"colorbar\":{\"outlinewidth\":0,\"ticks\":\"\"},\"colorscale\":[[0.0,\"#0d0887\"],[0.1111111111111111,\"#46039f\"],[0.2222222222222222,\"#7201a8\"],[0.3333333333333333,\"#9c179e\"],[0.4444444444444444,\"#bd3786\"],[0.5555555555555556,\"#d8576b\"],[0.6666666666666666,\"#ed7953\"],[0.7777777777777778,\"#fb9f3a\"],[0.8888888888888888,\"#fdca26\"],[1.0,\"#f0f921\"]],\"type\":\"heatmapgl\"}],\"histogram\":[{\"marker\":{\"pattern\":{\"fillmode\":\"overlay\",\"size\":10,\"solidity\":0.2}},\"type\":\"histogram\"}],\"histogram2d\":[{\"colorbar\":{\"outlinewidth\":0,\"ticks\":\"\"},\"colorscale\":[[0.0,\"#0d0887\"],[0.1111111111111111,\"#46039f\"],[0.2222222222222222,\"#7201a8\"],[0.3333333333333333,\"#9c179e\"],[0.4444444444444444,\"#bd3786\"],[0.5555555555555556,\"#d8576b\"],[0.6666666666666666,\"#ed7953\"],[0.7777777777777778,\"#fb9f3a\"],[0.8888888888888888,\"#fdca26\"],[1.0,\"#f0f921\"]],\"type\":\"histogram2d\"}],\"histogram2dcontour\":[{\"colorbar\":{\"outlinewidth\":0,\"ticks\":\"\"},\"colorscale\":[[0.0,\"#0d0887\"],[0.1111111111111111,\"#46039f\"],[0.2222222222222222,\"#7201a8\"],[0.3333333333333333,\"#9c179e\"],[0.4444444444444444,\"#bd3786\"],[0.5555555555555556,\"#d8576b\"],[0.6666666666666666,\"#ed7953\"],[0.7777777777777778,\"#fb9f3a\"],[0.8888888888888888,\"#fdca26\"],[1.0,\"#f0f921\"]],\"type\":\"histogram2dcontour\"}],\"mesh3d\":[{\"colorbar\":{\"outlinewidth\":0,\"ticks\":\"\"},\"type\":\"mesh3d\"}],\"parcoords\":[{\"line\":{\"colorbar\":{\"outlinewidth\":0,\"ticks\":\"\"}},\"type\":\"parcoords\"}],\"pie\":[{\"automargin\":true,\"type\":\"pie\"}],\"scatter\":[{\"marker\":{\"colorbar\":{\"outlinewidth\":0,\"ticks\":\"\"}},\"type\":\"scatter\"}],\"scatter3d\":[{\"line\":{\"colorbar\":{\"outlinewidth\":0,\"ticks\":\"\"}},\"marker\":{\"colorbar\":{\"outlinewidth\":0,\"ticks\":\"\"}},\"type\":\"scatter3d\"}],\"scattercarpet\":[{\"marker\":{\"colorbar\":{\"outlinewidth\":0,\"ticks\":\"\"}},\"type\":\"scattercarpet\"}],\"scattergeo\":[{\"marker\":{\"colorbar\":{\"outlinewidth\":0,\"ticks\":\"\"}},\"type\":\"scattergeo\"}],\"scattergl\":[{\"marker\":{\"colorbar\":{\"outlinewidth\":0,\"ticks\":\"\"}},\"type\":\"scattergl\"}],\"scattermapbox\":[{\"marker\":{\"colorbar\":{\"outlinewidth\":0,\"ticks\":\"\"}},\"type\":\"scattermapbox\"}],\"scatterpolar\":[{\"marker\":{\"colorbar\":{\"outlinewidth\":0,\"ticks\":\"\"}},\"type\":\"scatterpolar\"}],\"scatterpolargl\":[{\"marker\":{\"colorbar\":{\"outlinewidth\":0,\"ticks\":\"\"}},\"type\":\"scatterpolargl\"}],\"scatterternary\":[{\"marker\":{\"colorbar\":{\"outlinewidth\":0,\"ticks\":\"\"}},\"type\":\"scatterternary\"}],\"surface\":[{\"colorbar\":{\"outlinewidth\":0,\"ticks\":\"\"},\"colorscale\":[[0.0,\"#0d0887\"],[0.1111111111111111,\"#46039f\"],[0.2222222222222222,\"#7201a8\"],[0.3333333333333333,\"#9c179e\"],[0.4444444444444444,\"#bd3786\"],[0.5555555555555556,\"#d8576b\"],[0.6666666666666666,\"#ed7953\"],[0.7777777777777778,\"#fb9f3a\"],[0.8888888888888888,\"#fdca26\"],[1.0,\"#f0f921\"]],\"type\":\"surface\"}],\"table\":[{\"cells\":{\"fill\":{\"color\":\"#EBF0F8\"},\"line\":{\"color\":\"white\"}},\"header\":{\"fill\":{\"color\":\"#C8D4E3\"},\"line\":{\"color\":\"white\"}},\"type\":\"table\"}]},\"layout\":{\"annotationdefaults\":{\"arrowcolor\":\"#2a3f5f\",\"arrowhead\":0,\"arrowwidth\":1},\"autotypenumbers\":\"strict\",\"coloraxis\":{\"colorbar\":{\"outlinewidth\":0,\"ticks\":\"\"}},\"colorscale\":{\"diverging\":[[0,\"#8e0152\"],[0.1,\"#c51b7d\"],[0.2,\"#de77ae\"],[0.3,\"#f1b6da\"],[0.4,\"#fde0ef\"],[0.5,\"#f7f7f7\"],[0.6,\"#e6f5d0\"],[0.7,\"#b8e186\"],[0.8,\"#7fbc41\"],[0.9,\"#4d9221\"],[1,\"#276419\"]],\"sequential\":[[0.0,\"#0d0887\"],[0.1111111111111111,\"#46039f\"],[0.2222222222222222,\"#7201a8\"],[0.3333333333333333,\"#9c179e\"],[0.4444444444444444,\"#bd3786\"],[0.5555555555555556,\"#d8576b\"],[0.6666666666666666,\"#ed7953\"],[0.7777777777777778,\"#fb9f3a\"],[0.8888888888888888,\"#fdca26\"],[1.0,\"#f0f921\"]],\"sequentialminus\":[[0.0,\"#0d0887\"],[0.1111111111111111,\"#46039f\"],[0.2222222222222222,\"#7201a8\"],[0.3333333333333333,\"#9c179e\"],[0.4444444444444444,\"#bd3786\"],[0.5555555555555556,\"#d8576b\"],[0.6666666666666666,\"#ed7953\"],[0.7777777777777778,\"#fb9f3a\"],[0.8888888888888888,\"#fdca26\"],[1.0,\"#f0f921\"]]},\"colorway\":[\"#636efa\",\"#EF553B\",\"#00cc96\",\"#ab63fa\",\"#FFA15A\",\"#19d3f3\",\"#FF6692\",\"#B6E880\",\"#FF97FF\",\"#FECB52\"],\"font\":{\"color\":\"#2a3f5f\"},\"geo\":{\"bgcolor\":\"white\",\"lakecolor\":\"white\",\"landcolor\":\"#E5ECF6\",\"showlakes\":true,\"showland\":true,\"subunitcolor\":\"white\"},\"hoverlabel\":{\"align\":\"left\"},\"hovermode\":\"closest\",\"mapbox\":{\"style\":\"light\"},\"paper_bgcolor\":\"white\",\"plot_bgcolor\":\"#E5ECF6\",\"polar\":{\"angularaxis\":{\"gridcolor\":\"white\",\"linecolor\":\"white\",\"ticks\":\"\"},\"bgcolor\":\"#E5ECF6\",\"radialaxis\":{\"gridcolor\":\"white\",\"linecolor\":\"white\",\"ticks\":\"\"}},\"scene\":{\"xaxis\":{\"backgroundcolor\":\"#E5ECF6\",\"gridcolor\":\"white\",\"gridwidth\":2,\"linecolor\":\"white\",\"showbackground\":true,\"ticks\":\"\",\"zerolinecolor\":\"white\"},\"yaxis\":{\"backgroundcolor\":\"#E5ECF6\",\"gridcolor\":\"white\",\"gridwidth\":2,\"linecolor\":\"white\",\"showbackground\":true,\"ticks\":\"\",\"zerolinecolor\":\"white\"},\"zaxis\":{\"backgroundcolor\":\"#E5ECF6\",\"gridcolor\":\"white\",\"gridwidth\":2,\"linecolor\":\"white\",\"showbackground\":true,\"ticks\":\"\",\"zerolinecolor\":\"white\"}},\"shapedefaults\":{\"line\":{\"color\":\"#2a3f5f\"}},\"ternary\":{\"aaxis\":{\"gridcolor\":\"white\",\"linecolor\":\"white\",\"ticks\":\"\"},\"baxis\":{\"gridcolor\":\"white\",\"linecolor\":\"white\",\"ticks\":\"\"},\"bgcolor\":\"#E5ECF6\",\"caxis\":{\"gridcolor\":\"white\",\"linecolor\":\"white\",\"ticks\":\"\"}},\"title\":{\"x\":0.05},\"xaxis\":{\"automargin\":true,\"gridcolor\":\"white\",\"linecolor\":\"white\",\"ticks\":\"\",\"title\":{\"standoff\":15},\"zerolinecolor\":\"white\",\"zerolinewidth\":2},\"yaxis\":{\"automargin\":true,\"gridcolor\":\"white\",\"linecolor\":\"white\",\"ticks\":\"\",\"title\":{\"standoff\":15},\"zerolinecolor\":\"white\",\"zerolinewidth\":2}}},\"xaxis\":{\"anchor\":\"y\",\"domain\":[0.0,1.0],\"title\":{\"text\":\"Products\"}},\"yaxis\":{\"anchor\":\"x\",\"domain\":[0.0,1.0],\"title\":{\"text\":\"Number of item sold\"}},\"legend\":{\"tracegroupgap\":0},\"margin\":{\"t\":60},\"barmode\":\"relative\",\"title\":{\"text\":\"Top 10 frequently sold products \"}},                        {\"responsive\": true}                    ).then(function(){\n",
       "                            \n",
       "var gd = document.getElementById('dcc3fb01-0dd7-43d2-bea9-270014c1c172');\n",
       "var x = new MutationObserver(function (mutations, observer) {{\n",
       "        var display = window.getComputedStyle(gd).display;\n",
       "        if (!display || display === 'none') {{\n",
       "            console.log([gd, 'removed!']);\n",
       "            Plotly.purge(gd);\n",
       "            observer.disconnect();\n",
       "        }}\n",
       "}});\n",
       "\n",
       "// Listen for the removal of the full notebook cells\n",
       "var notebookContainer = gd.closest('#notebook-container');\n",
       "if (notebookContainer) {{\n",
       "    x.observe(notebookContainer, {childList: true});\n",
       "}}\n",
       "\n",
       "// Listen for the clearing of the current output cell\n",
       "var outputEl = gd.closest('.output');\n",
       "if (outputEl) {{\n",
       "    x.observe(outputEl, {childList: true});\n",
       "}}\n",
       "\n",
       "                        })                };                });            </script>        </div>"
      ]
     },
     "metadata": {},
     "output_type": "display_data"
    }
   ],
   "source": [
    "print(\"Top 10 frequently sold products\")\n",
    "\n",
    "fig = px.bar(x= x.index, y= x.values)\n",
    "fig.update_layout(title_text= \"Top 10 frequently sold products \", xaxis_title= \"Products\", yaxis_title=\"Number of item sold\")\n",
    "fig.show()"
   ]
  },
  {
   "cell_type": "markdown",
   "id": "f261f9c7",
   "metadata": {
    "papermill": {
     "duration": 0.03088,
     "end_time": "2022-07-12T07:16:51.556500",
     "exception": false,
     "start_time": "2022-07-12T07:16:51.525620",
     "status": "completed"
    },
    "tags": []
   },
   "source": [
    " We can see that whole milk has the highet count (nearly 2500), followed by vegetables(almost 1800)"
   ]
  },
  {
   "cell_type": "code",
   "execution_count": 9,
   "id": "4e6aacf8",
   "metadata": {
    "execution": {
     "iopub.execute_input": "2022-07-12T07:16:51.621603Z",
     "iopub.status.busy": "2022-07-12T07:16:51.620668Z",
     "iopub.status.idle": "2022-07-12T07:16:51.627501Z",
     "shell.execute_reply": "2022-07-12T07:16:51.628099Z"
    },
    "papermill": {
     "duration": 0.041336,
     "end_time": "2022-07-12T07:16:51.628277",
     "exception": false,
     "start_time": "2022-07-12T07:16:51.586941",
     "status": "completed"
    },
    "tags": []
   },
   "outputs": [],
   "source": [
    "#Now let's look at the 10 least selling products\n",
    "#The only change in code would be to not sort the values in descending order\n",
    "\n",
    "y = data['itemDescription'].value_counts().sort_values(ascending=True)[:10]"
   ]
  },
  {
   "cell_type": "code",
   "execution_count": 10,
   "id": "6c884780",
   "metadata": {
    "execution": {
     "iopub.execute_input": "2022-07-12T07:16:51.693328Z",
     "iopub.status.busy": "2022-07-12T07:16:51.692368Z",
     "iopub.status.idle": "2022-07-12T07:16:51.890458Z",
     "shell.execute_reply": "2022-07-12T07:16:51.890905Z"
    },
    "papermill": {
     "duration": 0.232288,
     "end_time": "2022-07-12T07:16:51.891093",
     "exception": false,
     "start_time": "2022-07-12T07:16:51.658805",
     "status": "completed"
    },
    "scrolled": true,
    "tags": []
   },
   "outputs": [
    {
     "name": "stdout",
     "output_type": "stream",
     "text": [
      "10 least frequently sold products\n"
     ]
    },
    {
     "data": {
      "text/html": [
       "<div>                            <div id=\"5231472e-3af6-42eb-bee9-b12a3c1a3dbf\" class=\"plotly-graph-div\" style=\"height:525px; width:100%;\"></div>            <script type=\"text/javascript\">                require([\"plotly\"], function(Plotly) {                    window.PLOTLYENV=window.PLOTLYENV || {};                                    if (document.getElementById(\"5231472e-3af6-42eb-bee9-b12a3c1a3dbf\")) {                    Plotly.newPlot(                        \"5231472e-3af6-42eb-bee9-b12a3c1a3dbf\",                        [{\"alignmentgroup\":\"True\",\"hovertemplate\":\"x=%{x}<br>y=%{y}<extra></extra>\",\"legendgroup\":\"\",\"marker\":{\"color\":\"#636efa\",\"pattern\":{\"shape\":\"\"}},\"name\":\"\",\"offsetgroup\":\"\",\"orientation\":\"v\",\"showlegend\":false,\"textposition\":\"auto\",\"x\":[\"preservation products\",\"kitchen utensil\",\"baby cosmetics\",\"bags\",\"frozen chicken\",\"make up remover\",\"rubbing alcohol\",\"toilet cleaner\",\"salad dressing\",\"whisky\"],\"xaxis\":\"x\",\"y\":[1,1,3,4,5,5,5,5,6,8],\"yaxis\":\"y\",\"type\":\"bar\"}],                        {\"template\":{\"data\":{\"bar\":[{\"error_x\":{\"color\":\"#2a3f5f\"},\"error_y\":{\"color\":\"#2a3f5f\"},\"marker\":{\"line\":{\"color\":\"#E5ECF6\",\"width\":0.5},\"pattern\":{\"fillmode\":\"overlay\",\"size\":10,\"solidity\":0.2}},\"type\":\"bar\"}],\"barpolar\":[{\"marker\":{\"line\":{\"color\":\"#E5ECF6\",\"width\":0.5},\"pattern\":{\"fillmode\":\"overlay\",\"size\":10,\"solidity\":0.2}},\"type\":\"barpolar\"}],\"carpet\":[{\"aaxis\":{\"endlinecolor\":\"#2a3f5f\",\"gridcolor\":\"white\",\"linecolor\":\"white\",\"minorgridcolor\":\"white\",\"startlinecolor\":\"#2a3f5f\"},\"baxis\":{\"endlinecolor\":\"#2a3f5f\",\"gridcolor\":\"white\",\"linecolor\":\"white\",\"minorgridcolor\":\"white\",\"startlinecolor\":\"#2a3f5f\"},\"type\":\"carpet\"}],\"choropleth\":[{\"colorbar\":{\"outlinewidth\":0,\"ticks\":\"\"},\"type\":\"choropleth\"}],\"contour\":[{\"colorbar\":{\"outlinewidth\":0,\"ticks\":\"\"},\"colorscale\":[[0.0,\"#0d0887\"],[0.1111111111111111,\"#46039f\"],[0.2222222222222222,\"#7201a8\"],[0.3333333333333333,\"#9c179e\"],[0.4444444444444444,\"#bd3786\"],[0.5555555555555556,\"#d8576b\"],[0.6666666666666666,\"#ed7953\"],[0.7777777777777778,\"#fb9f3a\"],[0.8888888888888888,\"#fdca26\"],[1.0,\"#f0f921\"]],\"type\":\"contour\"}],\"contourcarpet\":[{\"colorbar\":{\"outlinewidth\":0,\"ticks\":\"\"},\"type\":\"contourcarpet\"}],\"heatmap\":[{\"colorbar\":{\"outlinewidth\":0,\"ticks\":\"\"},\"colorscale\":[[0.0,\"#0d0887\"],[0.1111111111111111,\"#46039f\"],[0.2222222222222222,\"#7201a8\"],[0.3333333333333333,\"#9c179e\"],[0.4444444444444444,\"#bd3786\"],[0.5555555555555556,\"#d8576b\"],[0.6666666666666666,\"#ed7953\"],[0.7777777777777778,\"#fb9f3a\"],[0.8888888888888888,\"#fdca26\"],[1.0,\"#f0f921\"]],\"type\":\"heatmap\"}],\"heatmapgl\":[{\"colorbar\":{\"outlinewidth\":0,\"ticks\":\"\"},\"colorscale\":[[0.0,\"#0d0887\"],[0.1111111111111111,\"#46039f\"],[0.2222222222222222,\"#7201a8\"],[0.3333333333333333,\"#9c179e\"],[0.4444444444444444,\"#bd3786\"],[0.5555555555555556,\"#d8576b\"],[0.6666666666666666,\"#ed7953\"],[0.7777777777777778,\"#fb9f3a\"],[0.8888888888888888,\"#fdca26\"],[1.0,\"#f0f921\"]],\"type\":\"heatmapgl\"}],\"histogram\":[{\"marker\":{\"pattern\":{\"fillmode\":\"overlay\",\"size\":10,\"solidity\":0.2}},\"type\":\"histogram\"}],\"histogram2d\":[{\"colorbar\":{\"outlinewidth\":0,\"ticks\":\"\"},\"colorscale\":[[0.0,\"#0d0887\"],[0.1111111111111111,\"#46039f\"],[0.2222222222222222,\"#7201a8\"],[0.3333333333333333,\"#9c179e\"],[0.4444444444444444,\"#bd3786\"],[0.5555555555555556,\"#d8576b\"],[0.6666666666666666,\"#ed7953\"],[0.7777777777777778,\"#fb9f3a\"],[0.8888888888888888,\"#fdca26\"],[1.0,\"#f0f921\"]],\"type\":\"histogram2d\"}],\"histogram2dcontour\":[{\"colorbar\":{\"outlinewidth\":0,\"ticks\":\"\"},\"colorscale\":[[0.0,\"#0d0887\"],[0.1111111111111111,\"#46039f\"],[0.2222222222222222,\"#7201a8\"],[0.3333333333333333,\"#9c179e\"],[0.4444444444444444,\"#bd3786\"],[0.5555555555555556,\"#d8576b\"],[0.6666666666666666,\"#ed7953\"],[0.7777777777777778,\"#fb9f3a\"],[0.8888888888888888,\"#fdca26\"],[1.0,\"#f0f921\"]],\"type\":\"histogram2dcontour\"}],\"mesh3d\":[{\"colorbar\":{\"outlinewidth\":0,\"ticks\":\"\"},\"type\":\"mesh3d\"}],\"parcoords\":[{\"line\":{\"colorbar\":{\"outlinewidth\":0,\"ticks\":\"\"}},\"type\":\"parcoords\"}],\"pie\":[{\"automargin\":true,\"type\":\"pie\"}],\"scatter\":[{\"marker\":{\"colorbar\":{\"outlinewidth\":0,\"ticks\":\"\"}},\"type\":\"scatter\"}],\"scatter3d\":[{\"line\":{\"colorbar\":{\"outlinewidth\":0,\"ticks\":\"\"}},\"marker\":{\"colorbar\":{\"outlinewidth\":0,\"ticks\":\"\"}},\"type\":\"scatter3d\"}],\"scattercarpet\":[{\"marker\":{\"colorbar\":{\"outlinewidth\":0,\"ticks\":\"\"}},\"type\":\"scattercarpet\"}],\"scattergeo\":[{\"marker\":{\"colorbar\":{\"outlinewidth\":0,\"ticks\":\"\"}},\"type\":\"scattergeo\"}],\"scattergl\":[{\"marker\":{\"colorbar\":{\"outlinewidth\":0,\"ticks\":\"\"}},\"type\":\"scattergl\"}],\"scattermapbox\":[{\"marker\":{\"colorbar\":{\"outlinewidth\":0,\"ticks\":\"\"}},\"type\":\"scattermapbox\"}],\"scatterpolar\":[{\"marker\":{\"colorbar\":{\"outlinewidth\":0,\"ticks\":\"\"}},\"type\":\"scatterpolar\"}],\"scatterpolargl\":[{\"marker\":{\"colorbar\":{\"outlinewidth\":0,\"ticks\":\"\"}},\"type\":\"scatterpolargl\"}],\"scatterternary\":[{\"marker\":{\"colorbar\":{\"outlinewidth\":0,\"ticks\":\"\"}},\"type\":\"scatterternary\"}],\"surface\":[{\"colorbar\":{\"outlinewidth\":0,\"ticks\":\"\"},\"colorscale\":[[0.0,\"#0d0887\"],[0.1111111111111111,\"#46039f\"],[0.2222222222222222,\"#7201a8\"],[0.3333333333333333,\"#9c179e\"],[0.4444444444444444,\"#bd3786\"],[0.5555555555555556,\"#d8576b\"],[0.6666666666666666,\"#ed7953\"],[0.7777777777777778,\"#fb9f3a\"],[0.8888888888888888,\"#fdca26\"],[1.0,\"#f0f921\"]],\"type\":\"surface\"}],\"table\":[{\"cells\":{\"fill\":{\"color\":\"#EBF0F8\"},\"line\":{\"color\":\"white\"}},\"header\":{\"fill\":{\"color\":\"#C8D4E3\"},\"line\":{\"color\":\"white\"}},\"type\":\"table\"}]},\"layout\":{\"annotationdefaults\":{\"arrowcolor\":\"#2a3f5f\",\"arrowhead\":0,\"arrowwidth\":1},\"autotypenumbers\":\"strict\",\"coloraxis\":{\"colorbar\":{\"outlinewidth\":0,\"ticks\":\"\"}},\"colorscale\":{\"diverging\":[[0,\"#8e0152\"],[0.1,\"#c51b7d\"],[0.2,\"#de77ae\"],[0.3,\"#f1b6da\"],[0.4,\"#fde0ef\"],[0.5,\"#f7f7f7\"],[0.6,\"#e6f5d0\"],[0.7,\"#b8e186\"],[0.8,\"#7fbc41\"],[0.9,\"#4d9221\"],[1,\"#276419\"]],\"sequential\":[[0.0,\"#0d0887\"],[0.1111111111111111,\"#46039f\"],[0.2222222222222222,\"#7201a8\"],[0.3333333333333333,\"#9c179e\"],[0.4444444444444444,\"#bd3786\"],[0.5555555555555556,\"#d8576b\"],[0.6666666666666666,\"#ed7953\"],[0.7777777777777778,\"#fb9f3a\"],[0.8888888888888888,\"#fdca26\"],[1.0,\"#f0f921\"]],\"sequentialminus\":[[0.0,\"#0d0887\"],[0.1111111111111111,\"#46039f\"],[0.2222222222222222,\"#7201a8\"],[0.3333333333333333,\"#9c179e\"],[0.4444444444444444,\"#bd3786\"],[0.5555555555555556,\"#d8576b\"],[0.6666666666666666,\"#ed7953\"],[0.7777777777777778,\"#fb9f3a\"],[0.8888888888888888,\"#fdca26\"],[1.0,\"#f0f921\"]]},\"colorway\":[\"#636efa\",\"#EF553B\",\"#00cc96\",\"#ab63fa\",\"#FFA15A\",\"#19d3f3\",\"#FF6692\",\"#B6E880\",\"#FF97FF\",\"#FECB52\"],\"font\":{\"color\":\"#2a3f5f\"},\"geo\":{\"bgcolor\":\"white\",\"lakecolor\":\"white\",\"landcolor\":\"#E5ECF6\",\"showlakes\":true,\"showland\":true,\"subunitcolor\":\"white\"},\"hoverlabel\":{\"align\":\"left\"},\"hovermode\":\"closest\",\"mapbox\":{\"style\":\"light\"},\"paper_bgcolor\":\"white\",\"plot_bgcolor\":\"#E5ECF6\",\"polar\":{\"angularaxis\":{\"gridcolor\":\"white\",\"linecolor\":\"white\",\"ticks\":\"\"},\"bgcolor\":\"#E5ECF6\",\"radialaxis\":{\"gridcolor\":\"white\",\"linecolor\":\"white\",\"ticks\":\"\"}},\"scene\":{\"xaxis\":{\"backgroundcolor\":\"#E5ECF6\",\"gridcolor\":\"white\",\"gridwidth\":2,\"linecolor\":\"white\",\"showbackground\":true,\"ticks\":\"\",\"zerolinecolor\":\"white\"},\"yaxis\":{\"backgroundcolor\":\"#E5ECF6\",\"gridcolor\":\"white\",\"gridwidth\":2,\"linecolor\":\"white\",\"showbackground\":true,\"ticks\":\"\",\"zerolinecolor\":\"white\"},\"zaxis\":{\"backgroundcolor\":\"#E5ECF6\",\"gridcolor\":\"white\",\"gridwidth\":2,\"linecolor\":\"white\",\"showbackground\":true,\"ticks\":\"\",\"zerolinecolor\":\"white\"}},\"shapedefaults\":{\"line\":{\"color\":\"#2a3f5f\"}},\"ternary\":{\"aaxis\":{\"gridcolor\":\"white\",\"linecolor\":\"white\",\"ticks\":\"\"},\"baxis\":{\"gridcolor\":\"white\",\"linecolor\":\"white\",\"ticks\":\"\"},\"bgcolor\":\"#E5ECF6\",\"caxis\":{\"gridcolor\":\"white\",\"linecolor\":\"white\",\"ticks\":\"\"}},\"title\":{\"x\":0.05},\"xaxis\":{\"automargin\":true,\"gridcolor\":\"white\",\"linecolor\":\"white\",\"ticks\":\"\",\"title\":{\"standoff\":15},\"zerolinecolor\":\"white\",\"zerolinewidth\":2},\"yaxis\":{\"automargin\":true,\"gridcolor\":\"white\",\"linecolor\":\"white\",\"ticks\":\"\",\"title\":{\"standoff\":15},\"zerolinecolor\":\"white\",\"zerolinewidth\":2}}},\"xaxis\":{\"anchor\":\"y\",\"domain\":[0.0,1.0],\"title\":{\"text\":\"Products\"}},\"yaxis\":{\"anchor\":\"x\",\"domain\":[0.0,1.0],\"title\":{\"text\":\"Number of item sold\"}},\"legend\":{\"tracegroupgap\":0},\"margin\":{\"t\":60},\"barmode\":\"relative\",\"title\":{\"text\":\"10 least frequently sold products \"}},                        {\"responsive\": true}                    ).then(function(){\n",
       "                            \n",
       "var gd = document.getElementById('5231472e-3af6-42eb-bee9-b12a3c1a3dbf');\n",
       "var x = new MutationObserver(function (mutations, observer) {{\n",
       "        var display = window.getComputedStyle(gd).display;\n",
       "        if (!display || display === 'none') {{\n",
       "            console.log([gd, 'removed!']);\n",
       "            Plotly.purge(gd);\n",
       "            observer.disconnect();\n",
       "        }}\n",
       "}});\n",
       "\n",
       "// Listen for the removal of the full notebook cells\n",
       "var notebookContainer = gd.closest('#notebook-container');\n",
       "if (notebookContainer) {{\n",
       "    x.observe(notebookContainer, {childList: true});\n",
       "}}\n",
       "\n",
       "// Listen for the clearing of the current output cell\n",
       "var outputEl = gd.closest('.output');\n",
       "if (outputEl) {{\n",
       "    x.observe(outputEl, {childList: true});\n",
       "}}\n",
       "\n",
       "                        })                };                });            </script>        </div>"
      ]
     },
     "metadata": {},
     "output_type": "display_data"
    }
   ],
   "source": [
    "print(\"10 least frequently sold products\")\n",
    "\n",
    "fig = px.bar(x= y.index, y= y.values)\n",
    "fig.update_layout(title_text= \"10 least frequently sold products \", xaxis_title= \"Products\", yaxis_title=\"Number of item sold\")\n",
    "fig.show()"
   ]
  },
  {
   "cell_type": "markdown",
   "id": "60959355",
   "metadata": {
    "papermill": {
     "duration": 0.031416,
     "end_time": "2022-07-12T07:16:51.955930",
     "exception": false,
     "start_time": "2022-07-12T07:16:51.924514",
     "status": "completed"
    },
    "tags": []
   },
   "source": [
    "We can see that preservation products are the least sold item followed by kitchen utensils."
   ]
  },
  {
   "cell_type": "markdown",
   "id": "17d42ac5",
   "metadata": {
    "papermill": {
     "duration": 0.032077,
     "end_time": "2022-07-12T07:16:52.019637",
     "exception": false,
     "start_time": "2022-07-12T07:16:51.987560",
     "status": "completed"
    },
    "tags": []
   },
   "source": [
    "Let's create a dataframe by counting the number of times each customer has made a purchase. Then sort that in descending order and filter out the first 10 values, these are the ids of the customers that has made the most purchases."
   ]
  },
  {
   "cell_type": "code",
   "execution_count": 11,
   "id": "3840d235",
   "metadata": {
    "execution": {
     "iopub.execute_input": "2022-07-12T07:16:52.087590Z",
     "iopub.status.busy": "2022-07-12T07:16:52.086690Z",
     "iopub.status.idle": "2022-07-12T07:16:52.102260Z",
     "shell.execute_reply": "2022-07-12T07:16:52.102756Z"
    },
    "papermill": {
     "duration": 0.050812,
     "end_time": "2022-07-12T07:16:52.102935",
     "exception": false,
     "start_time": "2022-07-12T07:16:52.052123",
     "status": "completed"
    },
    "tags": []
   },
   "outputs": [
    {
     "data": {
      "text/html": [
       "<div>\n",
       "<style scoped>\n",
       "    .dataframe tbody tr th:only-of-type {\n",
       "        vertical-align: middle;\n",
       "    }\n",
       "\n",
       "    .dataframe tbody tr th {\n",
       "        vertical-align: top;\n",
       "    }\n",
       "\n",
       "    .dataframe thead th {\n",
       "        text-align: right;\n",
       "    }\n",
       "</style>\n",
       "<table border=\"1\" class=\"dataframe\">\n",
       "  <thead>\n",
       "    <tr style=\"text-align: right;\">\n",
       "      <th></th>\n",
       "      <th>Member_number</th>\n",
       "    </tr>\n",
       "  </thead>\n",
       "  <tbody>\n",
       "    <tr>\n",
       "      <th>3180</th>\n",
       "      <td>36</td>\n",
       "    </tr>\n",
       "    <tr>\n",
       "      <th>3050</th>\n",
       "      <td>33</td>\n",
       "    </tr>\n",
       "    <tr>\n",
       "      <th>2051</th>\n",
       "      <td>33</td>\n",
       "    </tr>\n",
       "    <tr>\n",
       "      <th>3737</th>\n",
       "      <td>33</td>\n",
       "    </tr>\n",
       "    <tr>\n",
       "      <th>2625</th>\n",
       "      <td>31</td>\n",
       "    </tr>\n",
       "    <tr>\n",
       "      <th>3915</th>\n",
       "      <td>31</td>\n",
       "    </tr>\n",
       "    <tr>\n",
       "      <th>2433</th>\n",
       "      <td>31</td>\n",
       "    </tr>\n",
       "    <tr>\n",
       "      <th>2271</th>\n",
       "      <td>31</td>\n",
       "    </tr>\n",
       "    <tr>\n",
       "      <th>3872</th>\n",
       "      <td>30</td>\n",
       "    </tr>\n",
       "    <tr>\n",
       "      <th>2394</th>\n",
       "      <td>29</td>\n",
       "    </tr>\n",
       "  </tbody>\n",
       "</table>\n",
       "</div>"
      ],
      "text/plain": [
       "      Member_number\n",
       "3180             36\n",
       "3050             33\n",
       "2051             33\n",
       "3737             33\n",
       "2625             31\n",
       "3915             31\n",
       "2433             31\n",
       "2271             31\n",
       "3872             30\n",
       "2394             29"
      ]
     },
     "execution_count": 11,
     "metadata": {},
     "output_type": "execute_result"
    }
   ],
   "source": [
    "pd.DataFrame(data['Member_number'].value_counts().sort_values(ascending=False))[:10]"
   ]
  },
  {
   "cell_type": "markdown",
   "id": "99a82676",
   "metadata": {
    "papermill": {
     "duration": 0.032552,
     "end_time": "2022-07-12T07:16:52.168731",
     "exception": false,
     "start_time": "2022-07-12T07:16:52.136179",
     "status": "completed"
    },
    "tags": []
   },
   "source": [
    "We can see that customer with id 3180 has made the most purchases (36) followed by 3050,2051,3737 buying 33 items each."
   ]
  },
  {
   "cell_type": "markdown",
   "id": "87d957d8",
   "metadata": {
    "papermill": {
     "duration": 0.033041,
     "end_time": "2022-07-12T07:16:52.234196",
     "exception": false,
     "start_time": "2022-07-12T07:16:52.201155",
     "status": "completed"
    },
    "tags": []
   },
   "source": [
    "### <span style='color:Black'>Let's find the dates on which highest sale was made."
   ]
  },
  {
   "cell_type": "code",
   "execution_count": 12,
   "id": "676e0957",
   "metadata": {
    "execution": {
     "iopub.execute_input": "2022-07-12T07:16:52.307344Z",
     "iopub.status.busy": "2022-07-12T07:16:52.306390Z",
     "iopub.status.idle": "2022-07-12T07:16:52.583642Z",
     "shell.execute_reply": "2022-07-12T07:16:52.584078Z"
    },
    "papermill": {
     "duration": 0.316928,
     "end_time": "2022-07-12T07:16:52.584260",
     "exception": false,
     "start_time": "2022-07-12T07:16:52.267332",
     "status": "completed"
    },
    "tags": []
   },
   "outputs": [],
   "source": [
    "#Let's create few new column by modifying the date column in the dataframe\n",
    "\n",
    "#Filtering out the year value from the date by splitting the date on - which gives a list and then taking out the last value which is the year value\n",
    "data[\"Year\"] = data['Date'].str.split(\"-\").str[-1]\n",
    "\n",
    "#Creating a new column in Month-Year format by splitting the date by - and filtering out the second and last value from the list which belongs to month and year respectively\n",
    "data[\"Month-Year\"] = data['Date'].str.split(\"-\").str[1] + \"-\" + data['Date'].str.split(\"-\").str[-1]"
   ]
  },
  {
   "cell_type": "code",
   "execution_count": 13,
   "id": "b5582aed",
   "metadata": {
    "execution": {
     "iopub.execute_input": "2022-07-12T07:16:52.653727Z",
     "iopub.status.busy": "2022-07-12T07:16:52.652626Z",
     "iopub.status.idle": "2022-07-12T07:16:52.741917Z",
     "shell.execute_reply": "2022-07-12T07:16:52.742670Z"
    },
    "papermill": {
     "duration": 0.125809,
     "end_time": "2022-07-12T07:16:52.742843",
     "exception": false,
     "start_time": "2022-07-12T07:16:52.617034",
     "status": "completed"
    },
    "tags": []
   },
   "outputs": [
    {
     "data": {
      "text/html": [
       "<div>                            <div id=\"1bf89604-3449-437b-a0ef-79db8dc5f6c5\" class=\"plotly-graph-div\" style=\"height:525px; width:100%;\"></div>            <script type=\"text/javascript\">                require([\"plotly\"], function(Plotly) {                    window.PLOTLYENV=window.PLOTLYENV || {};                                    if (document.getElementById(\"1bf89604-3449-437b-a0ef-79db8dc5f6c5\")) {                    Plotly.newPlot(                        \"1bf89604-3449-437b-a0ef-79db8dc5f6c5\",                        [{\"alignmentgroup\":\"True\",\"hovertemplate\":\"Date=%{x}<br>Count=%{y}<br>Meter=%{marker.color}<extra></extra>\",\"legendgroup\":\"\",\"marker\":{\"color\":[1921,1797,1793,1785,1724,1722,1699,1694,1670,1615,1591,1587,1576,1575,1570,1561,1560,1536,1527,1473,1472,1469,1437,1411],\"coloraxis\":\"coloraxis\",\"pattern\":{\"shape\":\"\"}},\"name\":\"\",\"offsetgroup\":\"\",\"orientation\":\"v\",\"showlegend\":false,\"textposition\":\"auto\",\"x\":[\"08-2015\",\"01-2015\",\"05-2015\",\"11-2015\",\"07-2015\",\"03-2015\",\"04-2015\",\"06-2015\",\"10-2015\",\"05-2014\",\"10-2014\",\"09-2015\",\"07-2014\",\"08-2014\",\"06-2014\",\"04-2014\",\"02-2015\",\"12-2015\",\"01-2014\",\"12-2014\",\"09-2014\",\"11-2014\",\"02-2014\",\"03-2014\"],\"xaxis\":\"x\",\"y\":[1921,1797,1793,1785,1724,1722,1699,1694,1670,1615,1591,1587,1576,1575,1570,1561,1560,1536,1527,1473,1472,1469,1437,1411],\"yaxis\":\"y\",\"type\":\"bar\"}],                        {\"template\":{\"data\":{\"bar\":[{\"error_x\":{\"color\":\"#2a3f5f\"},\"error_y\":{\"color\":\"#2a3f5f\"},\"marker\":{\"line\":{\"color\":\"#E5ECF6\",\"width\":0.5},\"pattern\":{\"fillmode\":\"overlay\",\"size\":10,\"solidity\":0.2}},\"type\":\"bar\"}],\"barpolar\":[{\"marker\":{\"line\":{\"color\":\"#E5ECF6\",\"width\":0.5},\"pattern\":{\"fillmode\":\"overlay\",\"size\":10,\"solidity\":0.2}},\"type\":\"barpolar\"}],\"carpet\":[{\"aaxis\":{\"endlinecolor\":\"#2a3f5f\",\"gridcolor\":\"white\",\"linecolor\":\"white\",\"minorgridcolor\":\"white\",\"startlinecolor\":\"#2a3f5f\"},\"baxis\":{\"endlinecolor\":\"#2a3f5f\",\"gridcolor\":\"white\",\"linecolor\":\"white\",\"minorgridcolor\":\"white\",\"startlinecolor\":\"#2a3f5f\"},\"type\":\"carpet\"}],\"choropleth\":[{\"colorbar\":{\"outlinewidth\":0,\"ticks\":\"\"},\"type\":\"choropleth\"}],\"contour\":[{\"colorbar\":{\"outlinewidth\":0,\"ticks\":\"\"},\"colorscale\":[[0.0,\"#0d0887\"],[0.1111111111111111,\"#46039f\"],[0.2222222222222222,\"#7201a8\"],[0.3333333333333333,\"#9c179e\"],[0.4444444444444444,\"#bd3786\"],[0.5555555555555556,\"#d8576b\"],[0.6666666666666666,\"#ed7953\"],[0.7777777777777778,\"#fb9f3a\"],[0.8888888888888888,\"#fdca26\"],[1.0,\"#f0f921\"]],\"type\":\"contour\"}],\"contourcarpet\":[{\"colorbar\":{\"outlinewidth\":0,\"ticks\":\"\"},\"type\":\"contourcarpet\"}],\"heatmap\":[{\"colorbar\":{\"outlinewidth\":0,\"ticks\":\"\"},\"colorscale\":[[0.0,\"#0d0887\"],[0.1111111111111111,\"#46039f\"],[0.2222222222222222,\"#7201a8\"],[0.3333333333333333,\"#9c179e\"],[0.4444444444444444,\"#bd3786\"],[0.5555555555555556,\"#d8576b\"],[0.6666666666666666,\"#ed7953\"],[0.7777777777777778,\"#fb9f3a\"],[0.8888888888888888,\"#fdca26\"],[1.0,\"#f0f921\"]],\"type\":\"heatmap\"}],\"heatmapgl\":[{\"colorbar\":{\"outlinewidth\":0,\"ticks\":\"\"},\"colorscale\":[[0.0,\"#0d0887\"],[0.1111111111111111,\"#46039f\"],[0.2222222222222222,\"#7201a8\"],[0.3333333333333333,\"#9c179e\"],[0.4444444444444444,\"#bd3786\"],[0.5555555555555556,\"#d8576b\"],[0.6666666666666666,\"#ed7953\"],[0.7777777777777778,\"#fb9f3a\"],[0.8888888888888888,\"#fdca26\"],[1.0,\"#f0f921\"]],\"type\":\"heatmapgl\"}],\"histogram\":[{\"marker\":{\"pattern\":{\"fillmode\":\"overlay\",\"size\":10,\"solidity\":0.2}},\"type\":\"histogram\"}],\"histogram2d\":[{\"colorbar\":{\"outlinewidth\":0,\"ticks\":\"\"},\"colorscale\":[[0.0,\"#0d0887\"],[0.1111111111111111,\"#46039f\"],[0.2222222222222222,\"#7201a8\"],[0.3333333333333333,\"#9c179e\"],[0.4444444444444444,\"#bd3786\"],[0.5555555555555556,\"#d8576b\"],[0.6666666666666666,\"#ed7953\"],[0.7777777777777778,\"#fb9f3a\"],[0.8888888888888888,\"#fdca26\"],[1.0,\"#f0f921\"]],\"type\":\"histogram2d\"}],\"histogram2dcontour\":[{\"colorbar\":{\"outlinewidth\":0,\"ticks\":\"\"},\"colorscale\":[[0.0,\"#0d0887\"],[0.1111111111111111,\"#46039f\"],[0.2222222222222222,\"#7201a8\"],[0.3333333333333333,\"#9c179e\"],[0.4444444444444444,\"#bd3786\"],[0.5555555555555556,\"#d8576b\"],[0.6666666666666666,\"#ed7953\"],[0.7777777777777778,\"#fb9f3a\"],[0.8888888888888888,\"#fdca26\"],[1.0,\"#f0f921\"]],\"type\":\"histogram2dcontour\"}],\"mesh3d\":[{\"colorbar\":{\"outlinewidth\":0,\"ticks\":\"\"},\"type\":\"mesh3d\"}],\"parcoords\":[{\"line\":{\"colorbar\":{\"outlinewidth\":0,\"ticks\":\"\"}},\"type\":\"parcoords\"}],\"pie\":[{\"automargin\":true,\"type\":\"pie\"}],\"scatter\":[{\"marker\":{\"colorbar\":{\"outlinewidth\":0,\"ticks\":\"\"}},\"type\":\"scatter\"}],\"scatter3d\":[{\"line\":{\"colorbar\":{\"outlinewidth\":0,\"ticks\":\"\"}},\"marker\":{\"colorbar\":{\"outlinewidth\":0,\"ticks\":\"\"}},\"type\":\"scatter3d\"}],\"scattercarpet\":[{\"marker\":{\"colorbar\":{\"outlinewidth\":0,\"ticks\":\"\"}},\"type\":\"scattercarpet\"}],\"scattergeo\":[{\"marker\":{\"colorbar\":{\"outlinewidth\":0,\"ticks\":\"\"}},\"type\":\"scattergeo\"}],\"scattergl\":[{\"marker\":{\"colorbar\":{\"outlinewidth\":0,\"ticks\":\"\"}},\"type\":\"scattergl\"}],\"scattermapbox\":[{\"marker\":{\"colorbar\":{\"outlinewidth\":0,\"ticks\":\"\"}},\"type\":\"scattermapbox\"}],\"scatterpolar\":[{\"marker\":{\"colorbar\":{\"outlinewidth\":0,\"ticks\":\"\"}},\"type\":\"scatterpolar\"}],\"scatterpolargl\":[{\"marker\":{\"colorbar\":{\"outlinewidth\":0,\"ticks\":\"\"}},\"type\":\"scatterpolargl\"}],\"scatterternary\":[{\"marker\":{\"colorbar\":{\"outlinewidth\":0,\"ticks\":\"\"}},\"type\":\"scatterternary\"}],\"surface\":[{\"colorbar\":{\"outlinewidth\":0,\"ticks\":\"\"},\"colorscale\":[[0.0,\"#0d0887\"],[0.1111111111111111,\"#46039f\"],[0.2222222222222222,\"#7201a8\"],[0.3333333333333333,\"#9c179e\"],[0.4444444444444444,\"#bd3786\"],[0.5555555555555556,\"#d8576b\"],[0.6666666666666666,\"#ed7953\"],[0.7777777777777778,\"#fb9f3a\"],[0.8888888888888888,\"#fdca26\"],[1.0,\"#f0f921\"]],\"type\":\"surface\"}],\"table\":[{\"cells\":{\"fill\":{\"color\":\"#EBF0F8\"},\"line\":{\"color\":\"white\"}},\"header\":{\"fill\":{\"color\":\"#C8D4E3\"},\"line\":{\"color\":\"white\"}},\"type\":\"table\"}]},\"layout\":{\"annotationdefaults\":{\"arrowcolor\":\"#2a3f5f\",\"arrowhead\":0,\"arrowwidth\":1},\"autotypenumbers\":\"strict\",\"coloraxis\":{\"colorbar\":{\"outlinewidth\":0,\"ticks\":\"\"}},\"colorscale\":{\"diverging\":[[0,\"#8e0152\"],[0.1,\"#c51b7d\"],[0.2,\"#de77ae\"],[0.3,\"#f1b6da\"],[0.4,\"#fde0ef\"],[0.5,\"#f7f7f7\"],[0.6,\"#e6f5d0\"],[0.7,\"#b8e186\"],[0.8,\"#7fbc41\"],[0.9,\"#4d9221\"],[1,\"#276419\"]],\"sequential\":[[0.0,\"#0d0887\"],[0.1111111111111111,\"#46039f\"],[0.2222222222222222,\"#7201a8\"],[0.3333333333333333,\"#9c179e\"],[0.4444444444444444,\"#bd3786\"],[0.5555555555555556,\"#d8576b\"],[0.6666666666666666,\"#ed7953\"],[0.7777777777777778,\"#fb9f3a\"],[0.8888888888888888,\"#fdca26\"],[1.0,\"#f0f921\"]],\"sequentialminus\":[[0.0,\"#0d0887\"],[0.1111111111111111,\"#46039f\"],[0.2222222222222222,\"#7201a8\"],[0.3333333333333333,\"#9c179e\"],[0.4444444444444444,\"#bd3786\"],[0.5555555555555556,\"#d8576b\"],[0.6666666666666666,\"#ed7953\"],[0.7777777777777778,\"#fb9f3a\"],[0.8888888888888888,\"#fdca26\"],[1.0,\"#f0f921\"]]},\"colorway\":[\"#636efa\",\"#EF553B\",\"#00cc96\",\"#ab63fa\",\"#FFA15A\",\"#19d3f3\",\"#FF6692\",\"#B6E880\",\"#FF97FF\",\"#FECB52\"],\"font\":{\"color\":\"#2a3f5f\"},\"geo\":{\"bgcolor\":\"white\",\"lakecolor\":\"white\",\"landcolor\":\"#E5ECF6\",\"showlakes\":true,\"showland\":true,\"subunitcolor\":\"white\"},\"hoverlabel\":{\"align\":\"left\"},\"hovermode\":\"closest\",\"mapbox\":{\"style\":\"light\"},\"paper_bgcolor\":\"white\",\"plot_bgcolor\":\"#E5ECF6\",\"polar\":{\"angularaxis\":{\"gridcolor\":\"white\",\"linecolor\":\"white\",\"ticks\":\"\"},\"bgcolor\":\"#E5ECF6\",\"radialaxis\":{\"gridcolor\":\"white\",\"linecolor\":\"white\",\"ticks\":\"\"}},\"scene\":{\"xaxis\":{\"backgroundcolor\":\"#E5ECF6\",\"gridcolor\":\"white\",\"gridwidth\":2,\"linecolor\":\"white\",\"showbackground\":true,\"ticks\":\"\",\"zerolinecolor\":\"white\"},\"yaxis\":{\"backgroundcolor\":\"#E5ECF6\",\"gridcolor\":\"white\",\"gridwidth\":2,\"linecolor\":\"white\",\"showbackground\":true,\"ticks\":\"\",\"zerolinecolor\":\"white\"},\"zaxis\":{\"backgroundcolor\":\"#E5ECF6\",\"gridcolor\":\"white\",\"gridwidth\":2,\"linecolor\":\"white\",\"showbackground\":true,\"ticks\":\"\",\"zerolinecolor\":\"white\"}},\"shapedefaults\":{\"line\":{\"color\":\"#2a3f5f\"}},\"ternary\":{\"aaxis\":{\"gridcolor\":\"white\",\"linecolor\":\"white\",\"ticks\":\"\"},\"baxis\":{\"gridcolor\":\"white\",\"linecolor\":\"white\",\"ticks\":\"\"},\"bgcolor\":\"#E5ECF6\",\"caxis\":{\"gridcolor\":\"white\",\"linecolor\":\"white\",\"ticks\":\"\"}},\"title\":{\"x\":0.05},\"xaxis\":{\"automargin\":true,\"gridcolor\":\"white\",\"linecolor\":\"white\",\"ticks\":\"\",\"title\":{\"standoff\":15},\"zerolinecolor\":\"white\",\"zerolinewidth\":2},\"yaxis\":{\"automargin\":true,\"gridcolor\":\"white\",\"linecolor\":\"white\",\"ticks\":\"\",\"title\":{\"standoff\":15},\"zerolinecolor\":\"white\",\"zerolinewidth\":2}}},\"xaxis\":{\"anchor\":\"y\",\"domain\":[0.0,1.0],\"title\":{\"text\":\"Date\"}},\"yaxis\":{\"anchor\":\"x\",\"domain\":[0.0,1.0],\"title\":{\"text\":\"Count\"}},\"coloraxis\":{\"colorbar\":{\"title\":{\"text\":\"Meter\"}},\"colorscale\":[[0.0,\"#0d0887\"],[0.1111111111111111,\"#46039f\"],[0.2222222222222222,\"#7201a8\"],[0.3333333333333333,\"#9c179e\"],[0.4444444444444444,\"#bd3786\"],[0.5555555555555556,\"#d8576b\"],[0.6666666666666666,\"#ed7953\"],[0.7777777777777778,\"#fb9f3a\"],[0.8888888888888888,\"#fdca26\"],[1.0,\"#f0f921\"]]},\"legend\":{\"tracegroupgap\":0},\"margin\":{\"t\":60},\"barmode\":\"relative\",\"title\":{\"text\":\"Exploring highest sales by  date\"}},                        {\"responsive\": true}                    ).then(function(){\n",
       "                            \n",
       "var gd = document.getElementById('1bf89604-3449-437b-a0ef-79db8dc5f6c5');\n",
       "var x = new MutationObserver(function (mutations, observer) {{\n",
       "        var display = window.getComputedStyle(gd).display;\n",
       "        if (!display || display === 'none') {{\n",
       "            console.log([gd, 'removed!']);\n",
       "            Plotly.purge(gd);\n",
       "            observer.disconnect();\n",
       "        }}\n",
       "}});\n",
       "\n",
       "// Listen for the removal of the full notebook cells\n",
       "var notebookContainer = gd.closest('#notebook-container');\n",
       "if (notebookContainer) {{\n",
       "    x.observe(notebookContainer, {childList: true});\n",
       "}}\n",
       "\n",
       "// Listen for the clearing of the current output cell\n",
       "var outputEl = gd.closest('.output');\n",
       "if (outputEl) {{\n",
       "    x.observe(outputEl, {childList: true});\n",
       "}}\n",
       "\n",
       "                        })                };                });            </script>        </div>"
      ]
     },
     "metadata": {},
     "output_type": "display_data"
    }
   ],
   "source": [
    "#Plotting a bar graph with number of sales in each  month of each year\n",
    "fig1 = px.bar(data[\"Month-Year\"].value_counts(ascending=False), \n",
    "              orientation= \"v\", \n",
    "              color = data[\"Month-Year\"].value_counts(ascending=False),\n",
    "              \n",
    "               labels={'value':'Count', 'index':'Date','color':'Meter'})\n",
    "\n",
    "fig1.update_layout(title_text=\"Exploring highest sales by  date\")\n",
    "\n",
    "fig1.show()"
   ]
  },
  {
   "cell_type": "markdown",
   "id": "9c77694a",
   "metadata": {
    "papermill": {
     "duration": 0.032594,
     "end_time": "2022-07-12T07:16:52.808833",
     "exception": false,
     "start_time": "2022-07-12T07:16:52.776239",
     "status": "completed"
    },
    "tags": []
   },
   "source": [
    "We can see that most of the sales is during the months of August and september and the least sales take place in February and March."
   ]
  },
  {
   "cell_type": "markdown",
   "id": "9f607222",
   "metadata": {
    "papermill": {
     "duration": 0.033342,
     "end_time": "2022-07-12T07:16:52.876285",
     "exception": false,
     "start_time": "2022-07-12T07:16:52.842943",
     "status": "completed"
    },
    "tags": []
   },
   "source": [
    "Implementation of Apriori Algorithm"
   ]
  },
  {
   "cell_type": "markdown",
   "id": "45429ff0",
   "metadata": {
    "papermill": {
     "duration": 0.032783,
     "end_time": "2022-07-12T07:16:52.942264",
     "exception": false,
     "start_time": "2022-07-12T07:16:52.909481",
     "status": "completed"
    },
    "tags": []
   },
   "source": [
    "Creating a list of names of unique products present in the itemDescription column"
   ]
  },
  {
   "cell_type": "code",
   "execution_count": 14,
   "id": "532ca6d3",
   "metadata": {
    "execution": {
     "iopub.execute_input": "2022-07-12T07:16:53.013116Z",
     "iopub.status.busy": "2022-07-12T07:16:53.012103Z",
     "iopub.status.idle": "2022-07-12T07:16:53.019513Z",
     "shell.execute_reply": "2022-07-12T07:16:53.020077Z"
    },
    "papermill": {
     "duration": 0.044065,
     "end_time": "2022-07-12T07:16:53.020260",
     "exception": false,
     "start_time": "2022-07-12T07:16:52.976195",
     "status": "completed"
    },
    "tags": []
   },
   "outputs": [],
   "source": [
    "products = data['itemDescription'].unique()"
   ]
  },
  {
   "cell_type": "code",
   "execution_count": 15,
   "id": "8eb77092",
   "metadata": {
    "execution": {
     "iopub.execute_input": "2022-07-12T07:16:53.091823Z",
     "iopub.status.busy": "2022-07-12T07:16:53.090859Z",
     "iopub.status.idle": "2022-07-12T07:16:53.096477Z",
     "shell.execute_reply": "2022-07-12T07:16:53.097005Z"
    },
    "papermill": {
     "duration": 0.042234,
     "end_time": "2022-07-12T07:16:53.097181",
     "exception": false,
     "start_time": "2022-07-12T07:16:53.054947",
     "status": "completed"
    },
    "scrolled": true,
    "tags": []
   },
   "outputs": [
    {
     "data": {
      "text/plain": [
       "array(['tropical fruit', 'whole milk', 'pip fruit', 'other vegetables',\n",
       "       'rolls/buns', 'pot plants', 'citrus fruit', 'beef', 'frankfurter',\n",
       "       'chicken'], dtype=object)"
      ]
     },
     "execution_count": 15,
     "metadata": {},
     "output_type": "execute_result"
    }
   ],
   "source": [
    "products[:10]"
   ]
  },
  {
   "cell_type": "markdown",
   "id": "747074a3",
   "metadata": {
    "papermill": {
     "duration": 0.033981,
     "end_time": "2022-07-12T07:16:53.166307",
     "exception": false,
     "start_time": "2022-07-12T07:16:53.132326",
     "status": "completed"
    },
    "tags": []
   },
   "source": [
    "### One hot encoding"
   ]
  },
  {
   "cell_type": "code",
   "execution_count": 16,
   "id": "ad80a5d1",
   "metadata": {
    "execution": {
     "iopub.execute_input": "2022-07-12T07:16:53.237598Z",
     "iopub.status.busy": "2022-07-12T07:16:53.236695Z",
     "iopub.status.idle": "2022-07-12T07:16:53.320287Z",
     "shell.execute_reply": "2022-07-12T07:16:53.320755Z"
    },
    "papermill": {
     "duration": 0.121253,
     "end_time": "2022-07-12T07:16:53.320922",
     "exception": false,
     "start_time": "2022-07-12T07:16:53.199669",
     "status": "completed"
    },
    "tags": []
   },
   "outputs": [
    {
     "data": {
      "text/html": [
       "<div>\n",
       "<style scoped>\n",
       "    .dataframe tbody tr th:only-of-type {\n",
       "        vertical-align: middle;\n",
       "    }\n",
       "\n",
       "    .dataframe tbody tr th {\n",
       "        vertical-align: top;\n",
       "    }\n",
       "\n",
       "    .dataframe thead th {\n",
       "        text-align: right;\n",
       "    }\n",
       "</style>\n",
       "<table border=\"1\" class=\"dataframe\">\n",
       "  <thead>\n",
       "    <tr style=\"text-align: right;\">\n",
       "      <th></th>\n",
       "      <th>Member_number</th>\n",
       "      <th>Date</th>\n",
       "      <th>Year</th>\n",
       "      <th>Month-Year</th>\n",
       "      <th>Instant food products</th>\n",
       "      <th>UHT-milk</th>\n",
       "      <th>abrasive cleaner</th>\n",
       "      <th>artif. sweetener</th>\n",
       "      <th>baby cosmetics</th>\n",
       "      <th>bags</th>\n",
       "      <th>...</th>\n",
       "      <th>turkey</th>\n",
       "      <th>vinegar</th>\n",
       "      <th>waffles</th>\n",
       "      <th>whipped/sour cream</th>\n",
       "      <th>whisky</th>\n",
       "      <th>white bread</th>\n",
       "      <th>white wine</th>\n",
       "      <th>whole milk</th>\n",
       "      <th>yogurt</th>\n",
       "      <th>zwieback</th>\n",
       "    </tr>\n",
       "  </thead>\n",
       "  <tbody>\n",
       "    <tr>\n",
       "      <th>0</th>\n",
       "      <td>1808</td>\n",
       "      <td>21-07-2015</td>\n",
       "      <td>2015</td>\n",
       "      <td>07-2015</td>\n",
       "      <td>0</td>\n",
       "      <td>0</td>\n",
       "      <td>0</td>\n",
       "      <td>0</td>\n",
       "      <td>0</td>\n",
       "      <td>0</td>\n",
       "      <td>...</td>\n",
       "      <td>0</td>\n",
       "      <td>0</td>\n",
       "      <td>0</td>\n",
       "      <td>0</td>\n",
       "      <td>0</td>\n",
       "      <td>0</td>\n",
       "      <td>0</td>\n",
       "      <td>0</td>\n",
       "      <td>0</td>\n",
       "      <td>0</td>\n",
       "    </tr>\n",
       "    <tr>\n",
       "      <th>1</th>\n",
       "      <td>2552</td>\n",
       "      <td>05-01-2015</td>\n",
       "      <td>2015</td>\n",
       "      <td>01-2015</td>\n",
       "      <td>0</td>\n",
       "      <td>0</td>\n",
       "      <td>0</td>\n",
       "      <td>0</td>\n",
       "      <td>0</td>\n",
       "      <td>0</td>\n",
       "      <td>...</td>\n",
       "      <td>0</td>\n",
       "      <td>0</td>\n",
       "      <td>0</td>\n",
       "      <td>0</td>\n",
       "      <td>0</td>\n",
       "      <td>0</td>\n",
       "      <td>0</td>\n",
       "      <td>1</td>\n",
       "      <td>0</td>\n",
       "      <td>0</td>\n",
       "    </tr>\n",
       "    <tr>\n",
       "      <th>2</th>\n",
       "      <td>2300</td>\n",
       "      <td>19-09-2015</td>\n",
       "      <td>2015</td>\n",
       "      <td>09-2015</td>\n",
       "      <td>0</td>\n",
       "      <td>0</td>\n",
       "      <td>0</td>\n",
       "      <td>0</td>\n",
       "      <td>0</td>\n",
       "      <td>0</td>\n",
       "      <td>...</td>\n",
       "      <td>0</td>\n",
       "      <td>0</td>\n",
       "      <td>0</td>\n",
       "      <td>0</td>\n",
       "      <td>0</td>\n",
       "      <td>0</td>\n",
       "      <td>0</td>\n",
       "      <td>0</td>\n",
       "      <td>0</td>\n",
       "      <td>0</td>\n",
       "    </tr>\n",
       "    <tr>\n",
       "      <th>3</th>\n",
       "      <td>1187</td>\n",
       "      <td>12-12-2015</td>\n",
       "      <td>2015</td>\n",
       "      <td>12-2015</td>\n",
       "      <td>0</td>\n",
       "      <td>0</td>\n",
       "      <td>0</td>\n",
       "      <td>0</td>\n",
       "      <td>0</td>\n",
       "      <td>0</td>\n",
       "      <td>...</td>\n",
       "      <td>0</td>\n",
       "      <td>0</td>\n",
       "      <td>0</td>\n",
       "      <td>0</td>\n",
       "      <td>0</td>\n",
       "      <td>0</td>\n",
       "      <td>0</td>\n",
       "      <td>0</td>\n",
       "      <td>0</td>\n",
       "      <td>0</td>\n",
       "    </tr>\n",
       "    <tr>\n",
       "      <th>4</th>\n",
       "      <td>3037</td>\n",
       "      <td>01-02-2015</td>\n",
       "      <td>2015</td>\n",
       "      <td>02-2015</td>\n",
       "      <td>0</td>\n",
       "      <td>0</td>\n",
       "      <td>0</td>\n",
       "      <td>0</td>\n",
       "      <td>0</td>\n",
       "      <td>0</td>\n",
       "      <td>...</td>\n",
       "      <td>0</td>\n",
       "      <td>0</td>\n",
       "      <td>0</td>\n",
       "      <td>0</td>\n",
       "      <td>0</td>\n",
       "      <td>0</td>\n",
       "      <td>0</td>\n",
       "      <td>1</td>\n",
       "      <td>0</td>\n",
       "      <td>0</td>\n",
       "    </tr>\n",
       "  </tbody>\n",
       "</table>\n",
       "<p>5 rows × 171 columns</p>\n",
       "</div>"
      ],
      "text/plain": [
       "   Member_number        Date  Year Month-Year  Instant food products  \\\n",
       "0           1808  21-07-2015  2015    07-2015                      0   \n",
       "1           2552  05-01-2015  2015    01-2015                      0   \n",
       "2           2300  19-09-2015  2015    09-2015                      0   \n",
       "3           1187  12-12-2015  2015    12-2015                      0   \n",
       "4           3037  01-02-2015  2015    02-2015                      0   \n",
       "\n",
       "   UHT-milk  abrasive cleaner  artif. sweetener  baby cosmetics  bags  ...  \\\n",
       "0         0                 0                 0               0     0  ...   \n",
       "1         0                 0                 0               0     0  ...   \n",
       "2         0                 0                 0               0     0  ...   \n",
       "3         0                 0                 0               0     0  ...   \n",
       "4         0                 0                 0               0     0  ...   \n",
       "\n",
       "   turkey  vinegar  waffles  whipped/sour cream  whisky  white bread  \\\n",
       "0       0        0        0                   0       0            0   \n",
       "1       0        0        0                   0       0            0   \n",
       "2       0        0        0                   0       0            0   \n",
       "3       0        0        0                   0       0            0   \n",
       "4       0        0        0                   0       0            0   \n",
       "\n",
       "   white wine  whole milk  yogurt  zwieback  \n",
       "0           0           0       0         0  \n",
       "1           0           1       0         0  \n",
       "2           0           0       0         0  \n",
       "3           0           0       0         0  \n",
       "4           0           1       0         0  \n",
       "\n",
       "[5 rows x 171 columns]"
      ]
     },
     "execution_count": 16,
     "metadata": {},
     "output_type": "execute_result"
    }
   ],
   "source": [
    "#For modelling and finding the relationship between products we need to be working with numerical values, so let's one hot encode the products\n",
    "data1=data.copy()\n",
    "one_hot = pd.get_dummies(data1['itemDescription'])\n",
    "data1.drop(['itemDescription'], inplace =True, axis=1)\n",
    "\n",
    "data1 = data1.join(one_hot)\n",
    "\n",
    "data1.head()"
   ]
  },
  {
   "cell_type": "code",
   "execution_count": 17,
   "id": "eff6b84a",
   "metadata": {
    "execution": {
     "iopub.execute_input": "2022-07-12T07:16:53.394208Z",
     "iopub.status.busy": "2022-07-12T07:16:53.393275Z",
     "iopub.status.idle": "2022-07-12T07:16:53.395472Z",
     "shell.execute_reply": "2022-07-12T07:16:53.396001Z"
    },
    "papermill": {
     "duration": 0.040941,
     "end_time": "2022-07-12T07:16:53.396189",
     "exception": false,
     "start_time": "2022-07-12T07:16:53.355248",
     "status": "completed"
    },
    "tags": []
   },
   "outputs": [],
   "source": [
    "#Group the data based on Member_number and then by date and computing the sum by products using the products in the earlier created project list."
   ]
  },
  {
   "cell_type": "code",
   "execution_count": 18,
   "id": "c0c87ee1",
   "metadata": {
    "execution": {
     "iopub.execute_input": "2022-07-12T07:16:53.468495Z",
     "iopub.status.busy": "2022-07-12T07:16:53.467573Z",
     "iopub.status.idle": "2022-07-12T07:16:53.762354Z",
     "shell.execute_reply": "2022-07-12T07:16:53.762816Z"
    },
    "papermill": {
     "duration": 0.332491,
     "end_time": "2022-07-12T07:16:53.762982",
     "exception": false,
     "start_time": "2022-07-12T07:16:53.430491",
     "status": "completed"
    },
    "tags": []
   },
   "outputs": [
    {
     "data": {
      "text/html": [
       "<div>\n",
       "<style scoped>\n",
       "    .dataframe tbody tr th:only-of-type {\n",
       "        vertical-align: middle;\n",
       "    }\n",
       "\n",
       "    .dataframe tbody tr th {\n",
       "        vertical-align: top;\n",
       "    }\n",
       "\n",
       "    .dataframe thead th {\n",
       "        text-align: right;\n",
       "    }\n",
       "</style>\n",
       "<table border=\"1\" class=\"dataframe\">\n",
       "  <thead>\n",
       "    <tr style=\"text-align: right;\">\n",
       "      <th></th>\n",
       "      <th></th>\n",
       "      <th>tropical fruit</th>\n",
       "      <th>whole milk</th>\n",
       "      <th>pip fruit</th>\n",
       "      <th>other vegetables</th>\n",
       "      <th>rolls/buns</th>\n",
       "      <th>pot plants</th>\n",
       "      <th>citrus fruit</th>\n",
       "      <th>beef</th>\n",
       "      <th>frankfurter</th>\n",
       "      <th>chicken</th>\n",
       "      <th>...</th>\n",
       "      <th>flower (seeds)</th>\n",
       "      <th>rice</th>\n",
       "      <th>tea</th>\n",
       "      <th>salad dressing</th>\n",
       "      <th>specialty vegetables</th>\n",
       "      <th>pudding powder</th>\n",
       "      <th>ready soups</th>\n",
       "      <th>make up remover</th>\n",
       "      <th>toilet cleaner</th>\n",
       "      <th>preservation products</th>\n",
       "    </tr>\n",
       "    <tr>\n",
       "      <th>Member_number</th>\n",
       "      <th>Date</th>\n",
       "      <th></th>\n",
       "      <th></th>\n",
       "      <th></th>\n",
       "      <th></th>\n",
       "      <th></th>\n",
       "      <th></th>\n",
       "      <th></th>\n",
       "      <th></th>\n",
       "      <th></th>\n",
       "      <th></th>\n",
       "      <th></th>\n",
       "      <th></th>\n",
       "      <th></th>\n",
       "      <th></th>\n",
       "      <th></th>\n",
       "      <th></th>\n",
       "      <th></th>\n",
       "      <th></th>\n",
       "      <th></th>\n",
       "      <th></th>\n",
       "      <th></th>\n",
       "    </tr>\n",
       "  </thead>\n",
       "  <tbody>\n",
       "    <tr>\n",
       "      <th rowspan=\"3\" valign=\"top\">1000</th>\n",
       "      <th>15-03-2015</th>\n",
       "      <td>0</td>\n",
       "      <td>1</td>\n",
       "      <td>0</td>\n",
       "      <td>0</td>\n",
       "      <td>0</td>\n",
       "      <td>0</td>\n",
       "      <td>0</td>\n",
       "      <td>0</td>\n",
       "      <td>0</td>\n",
       "      <td>0</td>\n",
       "      <td>...</td>\n",
       "      <td>0</td>\n",
       "      <td>0</td>\n",
       "      <td>0</td>\n",
       "      <td>0</td>\n",
       "      <td>0</td>\n",
       "      <td>0</td>\n",
       "      <td>0</td>\n",
       "      <td>0</td>\n",
       "      <td>0</td>\n",
       "      <td>0</td>\n",
       "    </tr>\n",
       "    <tr>\n",
       "      <th>24-06-2014</th>\n",
       "      <td>0</td>\n",
       "      <td>1</td>\n",
       "      <td>0</td>\n",
       "      <td>0</td>\n",
       "      <td>0</td>\n",
       "      <td>0</td>\n",
       "      <td>0</td>\n",
       "      <td>0</td>\n",
       "      <td>0</td>\n",
       "      <td>0</td>\n",
       "      <td>...</td>\n",
       "      <td>0</td>\n",
       "      <td>0</td>\n",
       "      <td>0</td>\n",
       "      <td>0</td>\n",
       "      <td>0</td>\n",
       "      <td>0</td>\n",
       "      <td>0</td>\n",
       "      <td>0</td>\n",
       "      <td>0</td>\n",
       "      <td>0</td>\n",
       "    </tr>\n",
       "    <tr>\n",
       "      <th>24-07-2015</th>\n",
       "      <td>0</td>\n",
       "      <td>0</td>\n",
       "      <td>0</td>\n",
       "      <td>0</td>\n",
       "      <td>0</td>\n",
       "      <td>0</td>\n",
       "      <td>0</td>\n",
       "      <td>0</td>\n",
       "      <td>0</td>\n",
       "      <td>0</td>\n",
       "      <td>...</td>\n",
       "      <td>0</td>\n",
       "      <td>0</td>\n",
       "      <td>0</td>\n",
       "      <td>0</td>\n",
       "      <td>0</td>\n",
       "      <td>0</td>\n",
       "      <td>0</td>\n",
       "      <td>0</td>\n",
       "      <td>0</td>\n",
       "      <td>0</td>\n",
       "    </tr>\n",
       "  </tbody>\n",
       "</table>\n",
       "<p>3 rows × 167 columns</p>\n",
       "</div>"
      ],
      "text/plain": [
       "                          tropical fruit  whole milk  pip fruit  \\\n",
       "Member_number Date                                                \n",
       "1000          15-03-2015               0           1          0   \n",
       "              24-06-2014               0           1          0   \n",
       "              24-07-2015               0           0          0   \n",
       "\n",
       "                          other vegetables  rolls/buns  pot plants  \\\n",
       "Member_number Date                                                   \n",
       "1000          15-03-2015                 0           0           0   \n",
       "              24-06-2014                 0           0           0   \n",
       "              24-07-2015                 0           0           0   \n",
       "\n",
       "                          citrus fruit  beef  frankfurter  chicken  ...  \\\n",
       "Member_number Date                                                  ...   \n",
       "1000          15-03-2015             0     0            0        0  ...   \n",
       "              24-06-2014             0     0            0        0  ...   \n",
       "              24-07-2015             0     0            0        0  ...   \n",
       "\n",
       "                          flower (seeds)  rice  tea  salad dressing  \\\n",
       "Member_number Date                                                    \n",
       "1000          15-03-2015               0     0    0               0   \n",
       "              24-06-2014               0     0    0               0   \n",
       "              24-07-2015               0     0    0               0   \n",
       "\n",
       "                          specialty vegetables  pudding powder  ready soups  \\\n",
       "Member_number Date                                                            \n",
       "1000          15-03-2015                     0               0            0   \n",
       "              24-06-2014                     0               0            0   \n",
       "              24-07-2015                     0               0            0   \n",
       "\n",
       "                          make up remover  toilet cleaner  \\\n",
       "Member_number Date                                          \n",
       "1000          15-03-2015                0               0   \n",
       "              24-06-2014                0               0   \n",
       "              24-07-2015                0               0   \n",
       "\n",
       "                          preservation products  \n",
       "Member_number Date                               \n",
       "1000          15-03-2015                      0  \n",
       "              24-06-2014                      0  \n",
       "              24-07-2015                      0  \n",
       "\n",
       "[3 rows x 167 columns]"
      ]
     },
     "execution_count": 18,
     "metadata": {},
     "output_type": "execute_result"
    }
   ],
   "source": [
    "data2 = data1.groupby(['Member_number', 'Date'])[products[:]].sum()\n",
    "\n",
    "data2.head(3)"
   ]
  },
  {
   "cell_type": "code",
   "execution_count": 19,
   "id": "6021ed26",
   "metadata": {
    "execution": {
     "iopub.execute_input": "2022-07-12T07:16:53.837301Z",
     "iopub.status.busy": "2022-07-12T07:16:53.836384Z",
     "iopub.status.idle": "2022-07-12T07:16:53.856239Z",
     "shell.execute_reply": "2022-07-12T07:16:53.855556Z"
    },
    "papermill": {
     "duration": 0.057967,
     "end_time": "2022-07-12T07:16:53.856382",
     "exception": false,
     "start_time": "2022-07-12T07:16:53.798415",
     "status": "completed"
    },
    "scrolled": true,
    "tags": []
   },
   "outputs": [
    {
     "data": {
      "text/html": [
       "<div>\n",
       "<style scoped>\n",
       "    .dataframe tbody tr th:only-of-type {\n",
       "        vertical-align: middle;\n",
       "    }\n",
       "\n",
       "    .dataframe tbody tr th {\n",
       "        vertical-align: top;\n",
       "    }\n",
       "\n",
       "    .dataframe thead th {\n",
       "        text-align: right;\n",
       "    }\n",
       "</style>\n",
       "<table border=\"1\" class=\"dataframe\">\n",
       "  <thead>\n",
       "    <tr style=\"text-align: right;\">\n",
       "      <th></th>\n",
       "      <th>tropical fruit</th>\n",
       "      <th>whole milk</th>\n",
       "      <th>pip fruit</th>\n",
       "      <th>other vegetables</th>\n",
       "      <th>rolls/buns</th>\n",
       "      <th>pot plants</th>\n",
       "      <th>citrus fruit</th>\n",
       "      <th>beef</th>\n",
       "      <th>frankfurter</th>\n",
       "      <th>chicken</th>\n",
       "      <th>...</th>\n",
       "      <th>flower (seeds)</th>\n",
       "      <th>rice</th>\n",
       "      <th>tea</th>\n",
       "      <th>salad dressing</th>\n",
       "      <th>specialty vegetables</th>\n",
       "      <th>pudding powder</th>\n",
       "      <th>ready soups</th>\n",
       "      <th>make up remover</th>\n",
       "      <th>toilet cleaner</th>\n",
       "      <th>preservation products</th>\n",
       "    </tr>\n",
       "  </thead>\n",
       "  <tbody>\n",
       "    <tr>\n",
       "      <th>0</th>\n",
       "      <td>0</td>\n",
       "      <td>1</td>\n",
       "      <td>0</td>\n",
       "      <td>0</td>\n",
       "      <td>0</td>\n",
       "      <td>0</td>\n",
       "      <td>0</td>\n",
       "      <td>0</td>\n",
       "      <td>0</td>\n",
       "      <td>0</td>\n",
       "      <td>...</td>\n",
       "      <td>0</td>\n",
       "      <td>0</td>\n",
       "      <td>0</td>\n",
       "      <td>0</td>\n",
       "      <td>0</td>\n",
       "      <td>0</td>\n",
       "      <td>0</td>\n",
       "      <td>0</td>\n",
       "      <td>0</td>\n",
       "      <td>0</td>\n",
       "    </tr>\n",
       "    <tr>\n",
       "      <th>1</th>\n",
       "      <td>0</td>\n",
       "      <td>1</td>\n",
       "      <td>0</td>\n",
       "      <td>0</td>\n",
       "      <td>0</td>\n",
       "      <td>0</td>\n",
       "      <td>0</td>\n",
       "      <td>0</td>\n",
       "      <td>0</td>\n",
       "      <td>0</td>\n",
       "      <td>...</td>\n",
       "      <td>0</td>\n",
       "      <td>0</td>\n",
       "      <td>0</td>\n",
       "      <td>0</td>\n",
       "      <td>0</td>\n",
       "      <td>0</td>\n",
       "      <td>0</td>\n",
       "      <td>0</td>\n",
       "      <td>0</td>\n",
       "      <td>0</td>\n",
       "    </tr>\n",
       "    <tr>\n",
       "      <th>2</th>\n",
       "      <td>0</td>\n",
       "      <td>0</td>\n",
       "      <td>0</td>\n",
       "      <td>0</td>\n",
       "      <td>0</td>\n",
       "      <td>0</td>\n",
       "      <td>0</td>\n",
       "      <td>0</td>\n",
       "      <td>0</td>\n",
       "      <td>0</td>\n",
       "      <td>...</td>\n",
       "      <td>0</td>\n",
       "      <td>0</td>\n",
       "      <td>0</td>\n",
       "      <td>0</td>\n",
       "      <td>0</td>\n",
       "      <td>0</td>\n",
       "      <td>0</td>\n",
       "      <td>0</td>\n",
       "      <td>0</td>\n",
       "      <td>0</td>\n",
       "    </tr>\n",
       "    <tr>\n",
       "      <th>3</th>\n",
       "      <td>0</td>\n",
       "      <td>0</td>\n",
       "      <td>0</td>\n",
       "      <td>0</td>\n",
       "      <td>0</td>\n",
       "      <td>0</td>\n",
       "      <td>0</td>\n",
       "      <td>0</td>\n",
       "      <td>0</td>\n",
       "      <td>0</td>\n",
       "      <td>...</td>\n",
       "      <td>0</td>\n",
       "      <td>0</td>\n",
       "      <td>0</td>\n",
       "      <td>0</td>\n",
       "      <td>0</td>\n",
       "      <td>0</td>\n",
       "      <td>0</td>\n",
       "      <td>0</td>\n",
       "      <td>0</td>\n",
       "      <td>0</td>\n",
       "    </tr>\n",
       "    <tr>\n",
       "      <th>4</th>\n",
       "      <td>0</td>\n",
       "      <td>0</td>\n",
       "      <td>0</td>\n",
       "      <td>0</td>\n",
       "      <td>0</td>\n",
       "      <td>0</td>\n",
       "      <td>0</td>\n",
       "      <td>0</td>\n",
       "      <td>0</td>\n",
       "      <td>0</td>\n",
       "      <td>...</td>\n",
       "      <td>0</td>\n",
       "      <td>0</td>\n",
       "      <td>0</td>\n",
       "      <td>0</td>\n",
       "      <td>0</td>\n",
       "      <td>0</td>\n",
       "      <td>0</td>\n",
       "      <td>0</td>\n",
       "      <td>0</td>\n",
       "      <td>0</td>\n",
       "    </tr>\n",
       "  </tbody>\n",
       "</table>\n",
       "<p>5 rows × 167 columns</p>\n",
       "</div>"
      ],
      "text/plain": [
       "   tropical fruit  whole milk  pip fruit  other vegetables  rolls/buns  \\\n",
       "0               0           1          0                 0           0   \n",
       "1               0           1          0                 0           0   \n",
       "2               0           0          0                 0           0   \n",
       "3               0           0          0                 0           0   \n",
       "4               0           0          0                 0           0   \n",
       "\n",
       "   pot plants  citrus fruit  beef  frankfurter  chicken  ...  flower (seeds)  \\\n",
       "0           0             0     0            0        0  ...               0   \n",
       "1           0             0     0            0        0  ...               0   \n",
       "2           0             0     0            0        0  ...               0   \n",
       "3           0             0     0            0        0  ...               0   \n",
       "4           0             0     0            0        0  ...               0   \n",
       "\n",
       "   rice  tea  salad dressing  specialty vegetables  pudding powder  \\\n",
       "0     0    0               0                     0               0   \n",
       "1     0    0               0                     0               0   \n",
       "2     0    0               0                     0               0   \n",
       "3     0    0               0                     0               0   \n",
       "4     0    0               0                     0               0   \n",
       "\n",
       "   ready soups  make up remover  toilet cleaner  preservation products  \n",
       "0            0                0               0                      0  \n",
       "1            0                0               0                      0  \n",
       "2            0                0               0                      0  \n",
       "3            0                0               0                      0  \n",
       "4            0                0               0                      0  \n",
       "\n",
       "[5 rows x 167 columns]"
      ]
     },
     "execution_count": 19,
     "metadata": {},
     "output_type": "execute_result"
    }
   ],
   "source": [
    "#Reset the index of the newly formed dataset.\n",
    "data2 = data2.reset_index()[products]\n",
    "data2.head()"
   ]
  },
  {
   "cell_type": "code",
   "execution_count": 20,
   "id": "c44a752b",
   "metadata": {
    "execution": {
     "iopub.execute_input": "2022-07-12T07:16:53.938195Z",
     "iopub.status.busy": "2022-07-12T07:16:53.936894Z",
     "iopub.status.idle": "2022-07-12T07:16:53.939368Z",
     "shell.execute_reply": "2022-07-12T07:16:53.939925Z"
    },
    "papermill": {
     "duration": 0.047441,
     "end_time": "2022-07-12T07:16:53.940151",
     "exception": false,
     "start_time": "2022-07-12T07:16:53.892710",
     "status": "completed"
    },
    "tags": []
   },
   "outputs": [],
   "source": [
    "#Create a function product_names which takes some data and for each product in the data, if the value of that product in the data is more than zero, then replace the value with the product name from the product list."
   ]
  },
  {
   "cell_type": "code",
   "execution_count": 21,
   "id": "e3f36305",
   "metadata": {
    "execution": {
     "iopub.execute_input": "2022-07-12T07:16:54.019182Z",
     "iopub.status.busy": "2022-07-12T07:16:54.018531Z",
     "iopub.status.idle": "2022-07-12T07:17:07.770086Z",
     "shell.execute_reply": "2022-07-12T07:17:07.769471Z"
    },
    "papermill": {
     "duration": 13.791394,
     "end_time": "2022-07-12T07:17:07.770225",
     "exception": false,
     "start_time": "2022-07-12T07:16:53.978831",
     "status": "completed"
    },
    "tags": []
   },
   "outputs": [
    {
     "data": {
      "text/html": [
       "<div>\n",
       "<style scoped>\n",
       "    .dataframe tbody tr th:only-of-type {\n",
       "        vertical-align: middle;\n",
       "    }\n",
       "\n",
       "    .dataframe tbody tr th {\n",
       "        vertical-align: top;\n",
       "    }\n",
       "\n",
       "    .dataframe thead th {\n",
       "        text-align: right;\n",
       "    }\n",
       "</style>\n",
       "<table border=\"1\" class=\"dataframe\">\n",
       "  <thead>\n",
       "    <tr style=\"text-align: right;\">\n",
       "      <th></th>\n",
       "      <th>tropical fruit</th>\n",
       "      <th>whole milk</th>\n",
       "      <th>pip fruit</th>\n",
       "      <th>other vegetables</th>\n",
       "      <th>rolls/buns</th>\n",
       "      <th>pot plants</th>\n",
       "      <th>citrus fruit</th>\n",
       "      <th>beef</th>\n",
       "      <th>frankfurter</th>\n",
       "      <th>chicken</th>\n",
       "      <th>...</th>\n",
       "      <th>flower (seeds)</th>\n",
       "      <th>rice</th>\n",
       "      <th>tea</th>\n",
       "      <th>salad dressing</th>\n",
       "      <th>specialty vegetables</th>\n",
       "      <th>pudding powder</th>\n",
       "      <th>ready soups</th>\n",
       "      <th>make up remover</th>\n",
       "      <th>toilet cleaner</th>\n",
       "      <th>preservation products</th>\n",
       "    </tr>\n",
       "  </thead>\n",
       "  <tbody>\n",
       "    <tr>\n",
       "      <th>0</th>\n",
       "      <td>0</td>\n",
       "      <td>whole milk</td>\n",
       "      <td>0</td>\n",
       "      <td>0</td>\n",
       "      <td>0</td>\n",
       "      <td>0</td>\n",
       "      <td>0</td>\n",
       "      <td>0</td>\n",
       "      <td>0</td>\n",
       "      <td>0</td>\n",
       "      <td>...</td>\n",
       "      <td>0</td>\n",
       "      <td>0</td>\n",
       "      <td>0</td>\n",
       "      <td>0</td>\n",
       "      <td>0</td>\n",
       "      <td>0</td>\n",
       "      <td>0</td>\n",
       "      <td>0</td>\n",
       "      <td>0</td>\n",
       "      <td>0</td>\n",
       "    </tr>\n",
       "    <tr>\n",
       "      <th>1</th>\n",
       "      <td>0</td>\n",
       "      <td>whole milk</td>\n",
       "      <td>0</td>\n",
       "      <td>0</td>\n",
       "      <td>0</td>\n",
       "      <td>0</td>\n",
       "      <td>0</td>\n",
       "      <td>0</td>\n",
       "      <td>0</td>\n",
       "      <td>0</td>\n",
       "      <td>...</td>\n",
       "      <td>0</td>\n",
       "      <td>0</td>\n",
       "      <td>0</td>\n",
       "      <td>0</td>\n",
       "      <td>0</td>\n",
       "      <td>0</td>\n",
       "      <td>0</td>\n",
       "      <td>0</td>\n",
       "      <td>0</td>\n",
       "      <td>0</td>\n",
       "    </tr>\n",
       "    <tr>\n",
       "      <th>2</th>\n",
       "      <td>0</td>\n",
       "      <td>0</td>\n",
       "      <td>0</td>\n",
       "      <td>0</td>\n",
       "      <td>0</td>\n",
       "      <td>0</td>\n",
       "      <td>0</td>\n",
       "      <td>0</td>\n",
       "      <td>0</td>\n",
       "      <td>0</td>\n",
       "      <td>...</td>\n",
       "      <td>0</td>\n",
       "      <td>0</td>\n",
       "      <td>0</td>\n",
       "      <td>0</td>\n",
       "      <td>0</td>\n",
       "      <td>0</td>\n",
       "      <td>0</td>\n",
       "      <td>0</td>\n",
       "      <td>0</td>\n",
       "      <td>0</td>\n",
       "    </tr>\n",
       "    <tr>\n",
       "      <th>3</th>\n",
       "      <td>0</td>\n",
       "      <td>0</td>\n",
       "      <td>0</td>\n",
       "      <td>0</td>\n",
       "      <td>0</td>\n",
       "      <td>0</td>\n",
       "      <td>0</td>\n",
       "      <td>0</td>\n",
       "      <td>0</td>\n",
       "      <td>0</td>\n",
       "      <td>...</td>\n",
       "      <td>0</td>\n",
       "      <td>0</td>\n",
       "      <td>0</td>\n",
       "      <td>0</td>\n",
       "      <td>0</td>\n",
       "      <td>0</td>\n",
       "      <td>0</td>\n",
       "      <td>0</td>\n",
       "      <td>0</td>\n",
       "      <td>0</td>\n",
       "    </tr>\n",
       "    <tr>\n",
       "      <th>4</th>\n",
       "      <td>0</td>\n",
       "      <td>0</td>\n",
       "      <td>0</td>\n",
       "      <td>0</td>\n",
       "      <td>0</td>\n",
       "      <td>0</td>\n",
       "      <td>0</td>\n",
       "      <td>0</td>\n",
       "      <td>0</td>\n",
       "      <td>0</td>\n",
       "      <td>...</td>\n",
       "      <td>0</td>\n",
       "      <td>0</td>\n",
       "      <td>0</td>\n",
       "      <td>0</td>\n",
       "      <td>0</td>\n",
       "      <td>0</td>\n",
       "      <td>0</td>\n",
       "      <td>0</td>\n",
       "      <td>0</td>\n",
       "      <td>0</td>\n",
       "    </tr>\n",
       "  </tbody>\n",
       "</table>\n",
       "<p>5 rows × 167 columns</p>\n",
       "</div>"
      ],
      "text/plain": [
       "  tropical fruit  whole milk pip fruit other vegetables rolls/buns pot plants  \\\n",
       "0              0  whole milk         0                0          0          0   \n",
       "1              0  whole milk         0                0          0          0   \n",
       "2              0           0         0                0          0          0   \n",
       "3              0           0         0                0          0          0   \n",
       "4              0           0         0                0          0          0   \n",
       "\n",
       "  citrus fruit beef frankfurter chicken  ... flower (seeds) rice tea  \\\n",
       "0            0    0           0       0  ...              0    0   0   \n",
       "1            0    0           0       0  ...              0    0   0   \n",
       "2            0    0           0       0  ...              0    0   0   \n",
       "3            0    0           0       0  ...              0    0   0   \n",
       "4            0    0           0       0  ...              0    0   0   \n",
       "\n",
       "  salad dressing specialty vegetables pudding powder ready soups  \\\n",
       "0              0                    0              0           0   \n",
       "1              0                    0              0           0   \n",
       "2              0                    0              0           0   \n",
       "3              0                    0              0           0   \n",
       "4              0                    0              0           0   \n",
       "\n",
       "  make up remover toilet cleaner preservation products  \n",
       "0               0              0                     0  \n",
       "1               0              0                     0  \n",
       "2               0              0                     0  \n",
       "3               0              0                     0  \n",
       "4               0              0                     0  \n",
       "\n",
       "[5 rows x 167 columns]"
      ]
     },
     "execution_count": 21,
     "metadata": {},
     "output_type": "execute_result"
    }
   ],
   "source": [
    "def product_names(x):\n",
    "    for product in products:\n",
    "        if x[product] >0:\n",
    "            x[product] = product\n",
    "    return x\n",
    "#Apply the created function on data2 dataset.\n",
    "data2 = data2.apply(product_names, axis=1)\n",
    "data2.head()"
   ]
  },
  {
   "cell_type": "code",
   "execution_count": 22,
   "id": "ef9db12d",
   "metadata": {
    "execution": {
     "iopub.execute_input": "2022-07-12T07:17:07.850593Z",
     "iopub.status.busy": "2022-07-12T07:17:07.849862Z",
     "iopub.status.idle": "2022-07-12T07:17:08.077054Z",
     "shell.execute_reply": "2022-07-12T07:17:08.076546Z"
    },
    "papermill": {
     "duration": 0.270294,
     "end_time": "2022-07-12T07:17:08.077241",
     "exception": false,
     "start_time": "2022-07-12T07:17:07.806947",
     "status": "completed"
    },
    "tags": []
   },
   "outputs": [
    {
     "data": {
      "text/plain": [
       "[['whole milk', 'yogurt', 'sausage', 'semi-finished bread'],\n",
       " ['whole milk', 'pastry', 'salty snack'],\n",
       " ['canned beer', 'misc. beverages'],\n",
       " ['sausage', 'hygiene articles'],\n",
       " ['soda', 'pickled vegetables'],\n",
       " ['frankfurter', 'curd'],\n",
       " ['whole milk', 'rolls/buns', 'sausage'],\n",
       " ['whole milk', 'soda'],\n",
       " ['beef', 'white bread'],\n",
       " ['frankfurter', 'soda', 'whipped/sour cream']]"
      ]
     },
     "execution_count": 22,
     "metadata": {},
     "output_type": "execute_result"
    }
   ],
   "source": [
    "\n",
    "#Filter out the values from the data frame data2\n",
    "x = data2.values\n",
    "#Convert into list values in each row if value is not zero\n",
    "x = [sub[~(sub==0)].tolist() for sub in x if sub [sub != 0].tolist()]\n",
    "transactions = x\n",
    "transactions[0:10]"
   ]
  },
  {
   "cell_type": "markdown",
   "id": "cf8a2fbc",
   "metadata": {
    "papermill": {
     "duration": 0.038783,
     "end_time": "2022-07-12T07:17:08.158599",
     "exception": false,
     "start_time": "2022-07-12T07:17:08.119816",
     "status": "completed"
    },
    "tags": []
   },
   "source": [
    "The apriori instance takes data as list that is why the above process is required."
   ]
  },
  {
   "cell_type": "code",
   "execution_count": 23,
   "id": "9988e77c",
   "metadata": {
    "execution": {
     "iopub.execute_input": "2022-07-12T07:17:08.239149Z",
     "iopub.status.busy": "2022-07-12T07:17:08.238437Z",
     "iopub.status.idle": "2022-07-12T07:17:08.362467Z",
     "shell.execute_reply": "2022-07-12T07:17:08.362930Z"
    },
    "papermill": {
     "duration": 0.165664,
     "end_time": "2022-07-12T07:17:08.363134",
     "exception": false,
     "start_time": "2022-07-12T07:17:08.197470",
     "status": "completed"
    },
    "tags": []
   },
   "outputs": [
    {
     "name": "stdout",
     "output_type": "stream",
     "text": [
      "RelationRecord(items=frozenset({'liver loaf', 'fruit/vegetable juice'}), support=0.00040098910646260775, ordered_statistics=[OrderedStatistic(items_base=frozenset({'liver loaf'}), items_add=frozenset({'fruit/vegetable juice'}), confidence=0.12, lift=3.5276227897838903)])\n"
     ]
    }
   ],
   "source": [
    "#Now we have to figure out various assosiations between items in the dataset\n",
    "#Create an apriori instance\n",
    "#Make a list out of the associations\n",
    "\n",
    "associations = apriori(transactions, min_support = 0.00030, min_confidence = 0.05, min_lift = 3, max_length = 2, target = \"associations\")\n",
    "association_results = list(associations)\n",
    "print(association_results[0])"
   ]
  },
  {
   "cell_type": "markdown",
   "id": "d2171f36",
   "metadata": {
    "papermill": {
     "duration": 0.04074,
     "end_time": "2022-07-12T07:17:08.445941",
     "exception": false,
     "start_time": "2022-07-12T07:17:08.405201",
     "status": "completed"
    },
    "tags": []
   },
   "source": [
    "Parameters\n",
    "\n",
    "=>=>=>=>=>=>=>=>=>\n",
    "\n",
    "min_support: The minimum support of relations (float)\n",
    "\n",
    "min_confidence: The minimum confidence of relations (float\n",
    "\n",
    "min_lift: The minimum lift of relations (float)\n",
    "\n",
    "min_length: The minimum number of items in a rule\n",
    "\n",
    "max_length: The maximum number of items in a rule"
   ]
  },
  {
   "cell_type": "markdown",
   "id": "0c1b8fd5",
   "metadata": {
    "papermill": {
     "duration": 0.038382,
     "end_time": "2022-07-12T07:17:08.522539",
     "exception": false,
     "start_time": "2022-07-12T07:17:08.484157",
     "status": "completed"
    },
    "tags": []
   },
   "source": [
    "Now let us observe each itemset, and separately print the support, confidence and list values of each itemset."
   ]
  },
  {
   "cell_type": "code",
   "execution_count": 24,
   "id": "42a4ae85",
   "metadata": {
    "execution": {
     "iopub.execute_input": "2022-07-12T07:17:08.605883Z",
     "iopub.status.busy": "2022-07-12T07:17:08.605161Z",
     "iopub.status.idle": "2022-07-12T07:17:08.620882Z",
     "shell.execute_reply": "2022-07-12T07:17:08.620135Z"
    },
    "papermill": {
     "duration": 0.05867,
     "end_time": "2022-07-12T07:17:08.621029",
     "exception": false,
     "start_time": "2022-07-12T07:17:08.562359",
     "status": "completed"
    },
    "tags": []
   },
   "outputs": [
    {
     "name": "stdout",
     "output_type": "stream",
     "text": [
      "Rule :  liver loaf  -> fruit/vegetable juice\n",
      "Support :  0.00040098910646260775\n",
      "Confidence :  0.12\n",
      "Lift :  3.5276227897838903\n",
      "=>=>=>=>=>=>=>=>=>=>=>=>=>=>=>=>=>=>=>=>\n",
      "Rule :  ham  -> pickled vegetables\n",
      "Support :  0.0005346521419501437\n",
      "Confidence :  0.05970149253731344\n",
      "Lift :  3.4895055970149254\n",
      "=>=>=>=>=>=>=>=>=>=>=>=>=>=>=>=>=>=>=>=>\n",
      "Rule :  roll products   -> meat\n",
      "Support :  0.0003341575887188398\n",
      "Confidence :  0.06097560975609757\n",
      "Lift :  3.620547812620984\n",
      "=>=>=>=>=>=>=>=>=>=>=>=>=>=>=>=>=>=>=>=>\n",
      "Rule :  salt  -> misc. beverages\n",
      "Support :  0.0003341575887188398\n",
      "Confidence :  0.05617977528089888\n",
      "Lift :  3.5619405827461437\n",
      "=>=>=>=>=>=>=>=>=>=>=>=>=>=>=>=>=>=>=>=>\n",
      "Rule :  spread cheese  -> misc. beverages\n",
      "Support :  0.0003341575887188398\n",
      "Confidence :  0.05\n",
      "Lift :  3.170127118644068\n",
      "=>=>=>=>=>=>=>=>=>=>=>=>=>=>=>=>=>=>=>=>\n",
      "Rule :  soups  -> seasonal products\n",
      "Support :  0.0003341575887188398\n",
      "Confidence :  0.10416666666666667\n",
      "Lift :  14.704205974842768\n",
      "=>=>=>=>=>=>=>=>=>=>=>=>=>=>=>=>=>=>=>=>\n",
      "Rule :  sugar  -> spread cheese\n",
      "Support :  0.00040098910646260775\n",
      "Confidence :  0.06\n",
      "Lift :  3.3878490566037733\n",
      "=>=>=>=>=>=>=>=>=>=>=>=>=>=>=>=>=>=>=>=>\n"
     ]
    }
   ],
   "source": [
    "#iterate through the list of associations and for each item\n",
    "for item in association_results:\n",
    "    \n",
    "    #for each item filter out the item pair and create item list containing individual items in the itemset\n",
    "    itemset = item[0]\n",
    "    items = [x for x in itemset]\n",
    "    \n",
    "    #Print the relationship( First value in items to second value in items)\n",
    "    print(\"Rule : \", items[0], \" -> \" + items[1])\n",
    "    \n",
    "    #Print support,confidence and lift value of each itemset\n",
    "    print(\"Support : \", str(item[1]))\n",
    "    print(\"Confidence : \",str(item[2][0][2]))\n",
    "    print(\"Lift : \", str(item[2][0][3]))\n",
    "    \n",
    "    print(\"=>=>=>=>=>=>=>=>=>=>=>=>=>=>=>=>=>=>=>=>\") "
   ]
  }
 ],
 "metadata": {
  "kernelspec": {
   "display_name": "Python 3",
   "language": "python",
   "name": "python3"
  },
  "language_info": {
   "codemirror_mode": {
    "name": "ipython",
    "version": 3
   },
   "file_extension": ".py",
   "mimetype": "text/x-python",
   "name": "python",
   "nbconvert_exporter": "python",
   "pygments_lexer": "ipython3",
   "version": "3.7.12"
  },
  "papermill": {
   "default_parameters": {},
   "duration": 42.996879,
   "end_time": "2022-07-12T07:17:09.473881",
   "environment_variables": {},
   "exception": null,
   "input_path": "__notebook__.ipynb",
   "output_path": "__notebook__.ipynb",
   "parameters": {},
   "start_time": "2022-07-12T07:16:26.477002",
   "version": "2.3.3"
  }
 },
 "nbformat": 4,
 "nbformat_minor": 5
}
